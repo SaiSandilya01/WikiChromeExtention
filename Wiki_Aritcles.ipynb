{
 "cells": [
  {
   "metadata": {
    "ExecuteTime": {
     "end_time": "2025-07-10T04:20:20.646737Z",
     "start_time": "2025-07-10T04:20:16.589889Z"
    }
   },
   "cell_type": "code",
   "source": [
    "import os\n",
    "import json\n",
    "from langchain_community.vectorstores import Chroma\n",
    "from langchain_community.embeddings import HuggingFaceEmbeddings\n",
    "from langchain_google_genai import ChatGoogleGenerativeAI\n",
    "from langchain.chains import RetrievalQA\n",
    "from langchain.schema import Document"
   ],
   "id": "d817a1ae6d114e1b",
   "outputs": [],
   "execution_count": 1
  },
  {
   "cell_type": "code",
   "id": "initial_id",
   "metadata": {
    "collapsed": true,
    "ExecuteTime": {
     "end_time": "2025-07-10T04:21:03.236295Z",
     "start_time": "2025-07-10T04:21:03.073754Z"
    }
   },
   "source": [
    "from langchain_community.retrievers import WikipediaRetriever\n",
    "\n",
    "retriever = WikipediaRetriever()"
   ],
   "outputs": [],
   "execution_count": 2
  },
  {
   "metadata": {
    "ExecuteTime": {
     "end_time": "2025-07-10T04:21:12.163823Z",
     "start_time": "2025-07-10T04:21:06.829484Z"
    }
   },
   "cell_type": "code",
   "source": "docs = retriever.invoke(\"A. P. J. Abdul Kalam\")",
   "id": "7e42e375bd9bf606",
   "outputs": [],
   "execution_count": 3
  },
  {
   "metadata": {},
   "cell_type": "code",
   "outputs": [],
   "execution_count": null,
   "source": "doxx = retriever.invoke(\"A. P. J. Abdul Kalam\")",
   "id": "749f149925ad9289"
  },
  {
   "metadata": {
    "ExecuteTime": {
     "end_time": "2025-07-03T04:47:28.151935300Z",
     "start_time": "2025-06-28T09:29:13.456562Z"
    }
   },
   "cell_type": "code",
   "source": "docs",
   "id": "30ceb661ee526541",
   "outputs": [
    {
     "data": {
      "text/plain": [
       "[Document(metadata={'title': 'A. P. J. Abdul Kalam', 'summary': 'Avul Pakir Jainulabdeen Abdul Kalam (  UB-duul kə-LAHM; 15 October 1931 – 27 July 2015) was an Indian aerospace scientist and statesman who served as the  president of India from 2002 to 2007.\\nBorn and raised in a Muslim family in Rameswaram, Tamil Nadu, Kalam studied physics and aerospace engineering. He spent the next four decades as a scientist and science administrator, mainly at the Defence Research and Development Organisation (DRDO) and Indian Space Research Organisation (ISRO) and was intimately involved in India\\'s civilian space programme and military missile development efforts. He was known as the \"Missile Man of India\" for his work on the development of ballistic missile and launch vehicle technology. He also played a pivotal organisational, technical, and political role in Pokhran-II nuclear tests in 1998, India\\'s second such test after the first test in 1974.\\nKalam was elected as the president of India in 2002 with the support of both the ruling Bharatiya Janata Party and the then-opposition Indian National Congress. He was widely referred to as the \"People\\'s President\". He engaged in teaching, writing and public service after his presidency. He was a recipient of several awards, including the Bharat Ratna, India\\'s highest civilian honour.\\nWhile delivering a lecture at IIM Shillong, Kalam collapsed and died from an apparent cardiac arrest on 27 July 2015, aged 83. Thousands attended the funeral ceremony held in his hometown of Rameswaram, where he was buried with full state honours. A memorial was inaugurated near his home town in 2017.', 'source': 'https://en.wikipedia.org/wiki/A._P._J._Abdul_Kalam'}, page_content='Avul Pakir Jainulabdeen Abdul Kalam (  UB-duul kə-LAHM; 15 October 1931 – 27 July 2015) was an Indian aerospace scientist and statesman who served as the  president of India from 2002 to 2007.\\nBorn and raised in a Muslim family in Rameswaram, Tamil Nadu, Kalam studied physics and aerospace engineering. He spent the next four decades as a scientist and science administrator, mainly at the Defence Research and Development Organisation (DRDO) and Indian Space Research Organisation (ISRO) and was intimately involved in India\\'s civilian space programme and military missile development efforts. He was known as the \"Missile Man of India\" for his work on the development of ballistic missile and launch vehicle technology. He also played a pivotal organisational, technical, and political role in Pokhran-II nuclear tests in 1998, India\\'s second such test after the first test in 1974.\\nKalam was elected as the president of India in 2002 with the support of both the ruling Bharatiya Janata Party and the then-opposition Indian National Congress. He was widely referred to as the \"People\\'s President\". He engaged in teaching, writing and public service after his presidency. He was a recipient of several awards, including the Bharat Ratna, India\\'s highest civilian honour.\\nWhile delivering a lecture at IIM Shillong, Kalam collapsed and died from an apparent cardiac arrest on 27 July 2015, aged 83. Thousands attended the funeral ceremony held in his hometown of Rameswaram, where he was buried with full state honours. A memorial was inaugurated near his home town in 2017.\\n\\n\\n== Early life and education ==\\nAvul Pakir Jainulabdeen Abdul Kalam was born on 15 October 1931 to a Tamil Muslim family in the pilgrimage center of Rameswaram on Pamban Island, Madras Presidency (now in the Indian state of Tamil Nadu). His father, Jainulabdeen Marakayar, was a boat owner and imam of a local mosque, and his mother, Ashiamma, was a housewife. His father owned a boat that ferried Hindu pilgrims between Rameswaram and Dhanushkodi.\\n\\nKalam was the youngest of four brothers and a sister in the family. His ancestors had been wealthy Marakayar traders and landowners, with numerous properties and large tracts of land. Marakayar are a Muslim ethnic group found in coastal Tamil Nadu and Sri Lanka who claim descent from Arab traders and local women. The family business had involved trading goods and transporting passengers between the Indian mainland and the Pamban Island and to and from Sri Lanka. With the opening of the Pamban Bridge connecting Pamban Island to mainland India in 1914, the businesses failed. As a result, apart from the ancestral home, the other family fortune and properties were lost by the 1920s, and the family was poverty-stricken by the time Kalam was born. As a young boy, he delivered newspapers to support the family\\'s meager income.\\nIn his school years, Kalam got average grades but was described by his teachers as a bright and hardworking student with a strong desire to learn. He spent hours learning Mathematics. He did his schooling at Schwartz Higher Secondary School in Ramanathapuram. He then graduated in Physics from St. Joseph\\'s College, Tiruchirappalli, in 1954.\\nKalam moved to Madras in 1955 to study aerospace engineering at the Madras Institute of Technology. While he was working on a class project, the Dean of the institution was dissatisfied with his lack of progress and threatened to revoke his scholarship unless the project was finished within the next three days. Kalam met the deadline, impressing the Dean, who later said to him, \"I was putting you under stress and asking you to meet a difficult deadline.\" Later, he narrowly missed out on his dream of becoming a fighter pilot, as he placed ninth in qualifiers, and only eight positions were available in the Indian Air Force.\\n\\n\\n== Career as a scientist ==\\n\\nAfter graduating from the Madras Institute of Technology in 1960, Kalam became a member of the Defence Research & Development Service and '),\n",
       " Document(metadata={'title': 'Dr. A. P. J. Abdul Kalam Memorial', 'summary': 'Dr. A. P. J. Abdul Kalam Memorial is a memorial dedicated to the former president of the Republic of India A. P. J. Abdul Kalam located in Peikarumbu, Rameswaram, Tamil Nadu, India. The memorial was designed and constructed by the Defence Research and Development Organisation (DRDO) as a tribute to Kalam and to display the cultural heritage and ethnic diversity of India. It was officially inaugurated by the prime minister of the Republic of India Narendra Modi on 22 July 2017. A symbol of national integration, the memorial is an amalgamation of Mughal and Indian architecture.', 'source': 'https://en.wikipedia.org/wiki/Dr._A._P._J._Abdul_Kalam_Memorial'}, page_content='Dr. A. P. J. Abdul Kalam Memorial is a memorial dedicated to the former president of the Republic of India A. P. J. Abdul Kalam located in Peikarumbu, Rameswaram, Tamil Nadu, India. The memorial was designed and constructed by the Defence Research and Development Organisation (DRDO) as a tribute to Kalam and to display the cultural heritage and ethnic diversity of India. It was officially inaugurated by the prime minister of the Republic of India Narendra Modi on 22 July 2017. A symbol of national integration, the memorial is an amalgamation of Mughal and Indian architecture.\\n\\n\\n== Background ==\\n\\nDr. Kalam died on 27 July 2015, Dr. Kalam travelled to Shillong to deliver a lecture on \"Creating a Livable Planet Earth\" at the Indian Institute of Management Shillong. The lecture was supposed to be 4000 words, but only after speaking the initial two sentences, Dr. Kalam collapsed and he was confirmed dead of a sudden cardiac arrest later at a hospital. Dr. Kalam\\'s body was airlifted in an Indian Air Force helicopter from Shillong to Guwahati, from where it was flown to New Delhi on the morning of 28 July.\\nFollowing Dr. Kalam\\'s death, the Indian Minister of Home Affairs called an emergency meeting of the Union Council of Ministers, attended by Prime Minister of India Narendra Modi. In the meeting, a proposal to build the \"Dr. A. P. J. Abdul Kalam National Memorial\" was finalised. The Indian Government proposed to perform Dr. Kalam\\'s funeral service at Raj Ghat-(Ekta Sthal) in New Delhi, and build a memorial there. Dr. Kalam\\'s family objected, since Dr. Kalam had wanted to be buried in his hometown, Rameshwaram, and the Indian government agreed to go along with the family\\'s wishes, and in the same year on Dr. Kalam\\'s birth date which is on 15 October, the commencement of construction on a memorial at Rameshwaram was publicized by Prime Minister Narendra Modi. On 27 July 2017, on the occasion of Dr. Kalam\\'s second death anniversary, the memorial was inaugurated by Prime Minister Narendra Modi.\\n\\n\\n== Structure, architecture, and landscape ==\\nThe Defence Research and Development Organisation (DRDO) initiate to design and building of the memorial, and in December 2015 the construction was started. In July 2016 Defence Minister Manohar Parrikar officially laid the foundation stone on the occasion of the first anniversary of Kalam\\'s death. The construction was completed within one year, with the engagement of 500 workers, and sometimes the work was carried out around the clock. The work was supervised by DRDO\\'s chief construction engineers; Colonel B. Choubey and Colonel B. K Singh.\\nThe memorial covers 2.11 acres of land, the built-up area is 1,425 square meters, and the construction cost up to 1.2 ₹ billion. The mausoleum is built of granite, marble and reinforced concrete. The construction material was sourced from different parts of India and transported to the construction site; the stone columns are sourced from Bangalore, the stone cladding was designed in Jaisalmer and Agra, wher as the main entrance wooden doors are crafted in Thanjavur and the marble was brought from Karnataka.\\nWith an amalgamation of Mughal and Indian architecture, the memorial is designed in a way to display the cultural heritage and ethnic diversity of India, making it a symbol of national integration. There are three entrances to the structure, of which the main entrance doorway resembles the India Gate of Delhi, while its hallway resembles the Brihadisvara Temple, of Thanjavur, and the wooden doors are designed in Chettinad style. At the northern end of the memorial lies a circular sepulchre that houses Kalam\\'s grave. The main dome resembles one of Rashtrapati Bhavan\\'s central domes and houses a bronze statue of Kalam playing the Veena. The central dome is connected to four display halls of about 2500 square feet—(each hall depicts Kalm\\'s life in phases, and they are designed as children\\'s square, scientist square, motivation square, and lecture square), that h'),\n",
       " Document(metadata={'title': 'List of awards and honours received by A. P. J. Abdul Kalam', 'summary': 'A. P. J. Abdul Kalam was an Indian aerospace scientist and statesman who served as president of India from 2002 to 2007. Born in Rameswaram in Southern India, Kalam spent four decades as a scientist and science administrator, mainly at the Defence Research and Development Organisation and Indian Space Research Organisation and was intimately involved in India\\'s civilian space programme and military missile development efforts. He was known as the \"Missile Man of India\" for his work on the development of ballistic missile and launch vehicle technology. He also played a pivotal organisational, technical, and political role in India\\'s Pokhran-II nuclear tests in 1998.\\nHe was elected as the president of India in 2002 and was widely referred to as the \"People\\'s President\". He engaged in teaching, writing and public service after his presidency. \\nKalam was a recipient of several awards, including the Bharat Ratna, India\\'s highest civilian honour.', 'source': 'https://en.wikipedia.org/wiki/List_of_awards_and_honours_received_by_A._P._J._Abdul_Kalam'}, page_content='A. P. J. Abdul Kalam was an Indian aerospace scientist and statesman who served as president of India from 2002 to 2007. Born in Rameswaram in Southern India, Kalam spent four decades as a scientist and science administrator, mainly at the Defence Research and Development Organisation and Indian Space Research Organisation and was intimately involved in India\\'s civilian space programme and military missile development efforts. He was known as the \"Missile Man of India\" for his work on the development of ballistic missile and launch vehicle technology. He also played a pivotal organisational, technical, and political role in India\\'s Pokhran-II nuclear tests in 1998.\\nHe was elected as the president of India in 2002 and was widely referred to as the \"People\\'s President\". He engaged in teaching, writing and public service after his presidency. \\nKalam was a recipient of several awards, including the Bharat Ratna, India\\'s highest civilian honour.\\n\\n\\n== State honours ==\\n\\n\\n== Scholastic ==\\n\\n\\n=== Chancellor, visitor, governor, rector and fellowships ===\\n\\n\\n=== Honorary degrees ===\\n\\n\\n== Other awards ==\\n\\n\\n== Recognition ==\\n\\n\\n=== Other recognitions ===\\nKalam\\'s birthday, 15 October, is celebrated as World Students\\' Day in India.\\nIn 2015, the Government of Tamil Nadu announced that Kalam\\'s birthday, 15 October, would be observed as \"Youth Renaissance Day\".\\n\\n\\n== Eponyms ==\\n\\n\\n== See also ==\\nList of Padma Vibhushan award recipients\\nList of Padma Bhushan award recipients (1980–1989)\\n\\n\\n== References ==')]"
      ]
     },
     "execution_count": 5,
     "metadata": {},
     "output_type": "execute_result"
    }
   ],
   "execution_count": 5
  },
  {
   "metadata": {
    "ExecuteTime": {
     "end_time": "2025-06-28T09:33:15.437142Z",
     "start_time": "2025-06-28T09:33:15.430875Z"
    }
   },
   "cell_type": "code",
   "source": "os.environ[\"GOOGLE_API_KEY\"] = \"Insert API Key here\"",
   "id": "d7619fc2c9f9ed16",
   "outputs": [],
   "execution_count": 8
  },
  {
   "metadata": {
    "ExecuteTime": {
     "end_time": "2025-06-28T09:36:40.289874Z",
     "start_time": "2025-06-28T09:36:40.020962Z"
    }
   },
   "cell_type": "code",
   "source": [
    "from langchain.chat_models import init_chat_model\n",
    "\n",
    "llm = init_chat_model(\"gemini-2.0-flash\", model_provider=\"google_genai\")\n"
   ],
   "id": "b393c1ac6f6e29b5",
   "outputs": [],
   "execution_count": 9
  },
  {
   "metadata": {
    "ExecuteTime": {
     "end_time": "2025-06-28T09:44:40.959989Z",
     "start_time": "2025-06-28T09:44:34.629373Z"
    }
   },
   "cell_type": "code",
   "source": [
    "from langchain_core.output_parsers import StrOutputParser\n",
    "from langchain_core.prompts import ChatPromptTemplate\n",
    "from langchain_core.runnables import RunnablePassthrough\n",
    "\n",
    "prompt = ChatPromptTemplate.from_template(\n",
    "    \"\"\"\n",
    "    Answer the question based only on the context provided.\n",
    "    Context: {context}\n",
    "    Question: {question}\n",
    "    \"\"\"\n",
    ")\n",
    "\n",
    "\n",
    "def format_docs(docs):\n",
    "    return \"\\n\\n\".join(doc.page_content for doc in docs)\n",
    "\n",
    "\n",
    "chain = (\n",
    "    {\"context\": retriever | format_docs, \"question\": RunnablePassthrough()}\n",
    "    | prompt\n",
    "    | llm\n",
    "    | StrOutputParser()\n",
    ")"
   ],
   "id": "1a195974e848cef6",
   "outputs": [],
   "execution_count": 24
  },
  {
   "metadata": {
    "ExecuteTime": {
     "end_time": "2025-06-28T09:46:16.974949Z",
     "start_time": "2025-06-28T09:46:11.033576Z"
    }
   },
   "cell_type": "code",
   "source": [
    "chain.invoke(\n",
    "    \"when was he elected as president of india?\"\n",
    ")"
   ],
   "id": "94473e6a55120ab2",
   "outputs": [
    {
     "data": {
      "text/plain": [
       "'He was not elected as president of India. The context is about the vice president of India.'"
      ]
     },
     "execution_count": 26,
     "metadata": {},
     "output_type": "execute_result"
    }
   ],
   "execution_count": 26
  },
  {
   "metadata": {
    "ExecuteTime": {
     "end_time": "2025-06-28T09:53:13.316923Z",
     "start_time": "2025-06-28T09:53:13.304162Z"
    }
   },
   "cell_type": "code",
   "source": "format_docs(docs)",
   "id": "3889dd74511ca2f7",
   "outputs": [
    {
     "data": {
      "text/plain": [
       "'Avul Pakir Jainulabdeen Abdul Kalam (  UB-duul kə-LAHM; 15 October 1931 – 27 July 2015) was an Indian aerospace scientist and statesman who served as the  president of India from 2002 to 2007.\\nBorn and raised in a Muslim family in Rameswaram, Tamil Nadu, Kalam studied physics and aerospace engineering. He spent the next four decades as a scientist and science administrator, mainly at the Defence Research and Development Organisation (DRDO) and Indian Space Research Organisation (ISRO) and was intimately involved in India\\'s civilian space programme and military missile development efforts. He was known as the \"Missile Man of India\" for his work on the development of ballistic missile and launch vehicle technology. He also played a pivotal organisational, technical, and political role in Pokhran-II nuclear tests in 1998, India\\'s second such test after the first test in 1974.\\nKalam was elected as the president of India in 2002 with the support of both the ruling Bharatiya Janata Party and the then-opposition Indian National Congress. He was widely referred to as the \"People\\'s President\". He engaged in teaching, writing and public service after his presidency. He was a recipient of several awards, including the Bharat Ratna, India\\'s highest civilian honour.\\nWhile delivering a lecture at IIM Shillong, Kalam collapsed and died from an apparent cardiac arrest on 27 July 2015, aged 83. Thousands attended the funeral ceremony held in his hometown of Rameswaram, where he was buried with full state honours. A memorial was inaugurated near his home town in 2017.\\n\\n\\n== Early life and education ==\\nAvul Pakir Jainulabdeen Abdul Kalam was born on 15 October 1931 to a Tamil Muslim family in the pilgrimage center of Rameswaram on Pamban Island, Madras Presidency (now in the Indian state of Tamil Nadu). His father, Jainulabdeen Marakayar, was a boat owner and imam of a local mosque, and his mother, Ashiamma, was a housewife. His father owned a boat that ferried Hindu pilgrims between Rameswaram and Dhanushkodi.\\n\\nKalam was the youngest of four brothers and a sister in the family. His ancestors had been wealthy Marakayar traders and landowners, with numerous properties and large tracts of land. Marakayar are a Muslim ethnic group found in coastal Tamil Nadu and Sri Lanka who claim descent from Arab traders and local women. The family business had involved trading goods and transporting passengers between the Indian mainland and the Pamban Island and to and from Sri Lanka. With the opening of the Pamban Bridge connecting Pamban Island to mainland India in 1914, the businesses failed. As a result, apart from the ancestral home, the other family fortune and properties were lost by the 1920s, and the family was poverty-stricken by the time Kalam was born. As a young boy, he delivered newspapers to support the family\\'s meager income.\\nIn his school years, Kalam got average grades but was described by his teachers as a bright and hardworking student with a strong desire to learn. He spent hours learning Mathematics. He did his schooling at Schwartz Higher Secondary School in Ramanathapuram. He then graduated in Physics from St. Joseph\\'s College, Tiruchirappalli, in 1954.\\nKalam moved to Madras in 1955 to study aerospace engineering at the Madras Institute of Technology. While he was working on a class project, the Dean of the institution was dissatisfied with his lack of progress and threatened to revoke his scholarship unless the project was finished within the next three days. Kalam met the deadline, impressing the Dean, who later said to him, \"I was putting you under stress and asking you to meet a difficult deadline.\" Later, he narrowly missed out on his dream of becoming a fighter pilot, as he placed ninth in qualifiers, and only eight positions were available in the Indian Air Force.\\n\\n\\n== Career as a scientist ==\\n\\nAfter graduating from the Madras Institute of Technology in 1960, Kalam became a member of the Defence Research & Development Service and \\n\\nDr. A. P. J. Abdul Kalam Memorial is a memorial dedicated to the former president of the Republic of India A. P. J. Abdul Kalam located in Peikarumbu, Rameswaram, Tamil Nadu, India. The memorial was designed and constructed by the Defence Research and Development Organisation (DRDO) as a tribute to Kalam and to display the cultural heritage and ethnic diversity of India. It was officially inaugurated by the prime minister of the Republic of India Narendra Modi on 22 July 2017. A symbol of national integration, the memorial is an amalgamation of Mughal and Indian architecture.\\n\\n\\n== Background ==\\n\\nDr. Kalam died on 27 July 2015, Dr. Kalam travelled to Shillong to deliver a lecture on \"Creating a Livable Planet Earth\" at the Indian Institute of Management Shillong. The lecture was supposed to be 4000 words, but only after speaking the initial two sentences, Dr. Kalam collapsed and he was confirmed dead of a sudden cardiac arrest later at a hospital. Dr. Kalam\\'s body was airlifted in an Indian Air Force helicopter from Shillong to Guwahati, from where it was flown to New Delhi on the morning of 28 July.\\nFollowing Dr. Kalam\\'s death, the Indian Minister of Home Affairs called an emergency meeting of the Union Council of Ministers, attended by Prime Minister of India Narendra Modi. In the meeting, a proposal to build the \"Dr. A. P. J. Abdul Kalam National Memorial\" was finalised. The Indian Government proposed to perform Dr. Kalam\\'s funeral service at Raj Ghat-(Ekta Sthal) in New Delhi, and build a memorial there. Dr. Kalam\\'s family objected, since Dr. Kalam had wanted to be buried in his hometown, Rameshwaram, and the Indian government agreed to go along with the family\\'s wishes, and in the same year on Dr. Kalam\\'s birth date which is on 15 October, the commencement of construction on a memorial at Rameshwaram was publicized by Prime Minister Narendra Modi. On 27 July 2017, on the occasion of Dr. Kalam\\'s second death anniversary, the memorial was inaugurated by Prime Minister Narendra Modi.\\n\\n\\n== Structure, architecture, and landscape ==\\nThe Defence Research and Development Organisation (DRDO) initiate to design and building of the memorial, and in December 2015 the construction was started. In July 2016 Defence Minister Manohar Parrikar officially laid the foundation stone on the occasion of the first anniversary of Kalam\\'s death. The construction was completed within one year, with the engagement of 500 workers, and sometimes the work was carried out around the clock. The work was supervised by DRDO\\'s chief construction engineers; Colonel B. Choubey and Colonel B. K Singh.\\nThe memorial covers 2.11 acres of land, the built-up area is 1,425 square meters, and the construction cost up to 1.2 ₹ billion. The mausoleum is built of granite, marble and reinforced concrete. The construction material was sourced from different parts of India and transported to the construction site; the stone columns are sourced from Bangalore, the stone cladding was designed in Jaisalmer and Agra, wher as the main entrance wooden doors are crafted in Thanjavur and the marble was brought from Karnataka.\\nWith an amalgamation of Mughal and Indian architecture, the memorial is designed in a way to display the cultural heritage and ethnic diversity of India, making it a symbol of national integration. There are three entrances to the structure, of which the main entrance doorway resembles the India Gate of Delhi, while its hallway resembles the Brihadisvara Temple, of Thanjavur, and the wooden doors are designed in Chettinad style. At the northern end of the memorial lies a circular sepulchre that houses Kalam\\'s grave. The main dome resembles one of Rashtrapati Bhavan\\'s central domes and houses a bronze statue of Kalam playing the Veena. The central dome is connected to four display halls of about 2500 square feet—(each hall depicts Kalm\\'s life in phases, and they are designed as children\\'s square, scientist square, motivation square, and lecture square), that h\\n\\nA. P. J. Abdul Kalam was an Indian aerospace scientist and statesman who served as president of India from 2002 to 2007. Born in Rameswaram in Southern India, Kalam spent four decades as a scientist and science administrator, mainly at the Defence Research and Development Organisation and Indian Space Research Organisation and was intimately involved in India\\'s civilian space programme and military missile development efforts. He was known as the \"Missile Man of India\" for his work on the development of ballistic missile and launch vehicle technology. He also played a pivotal organisational, technical, and political role in India\\'s Pokhran-II nuclear tests in 1998.\\nHe was elected as the president of India in 2002 and was widely referred to as the \"People\\'s President\". He engaged in teaching, writing and public service after his presidency. \\nKalam was a recipient of several awards, including the Bharat Ratna, India\\'s highest civilian honour.\\n\\n\\n== State honours ==\\n\\n\\n== Scholastic ==\\n\\n\\n=== Chancellor, visitor, governor, rector and fellowships ===\\n\\n\\n=== Honorary degrees ===\\n\\n\\n== Other awards ==\\n\\n\\n== Recognition ==\\n\\n\\n=== Other recognitions ===\\nKalam\\'s birthday, 15 October, is celebrated as World Students\\' Day in India.\\nIn 2015, the Government of Tamil Nadu announced that Kalam\\'s birthday, 15 October, would be observed as \"Youth Renaissance Day\".\\n\\n\\n== Eponyms ==\\n\\n\\n== See also ==\\nList of Padma Vibhushan award recipients\\nList of Padma Bhushan award recipients (1980–1989)\\n\\n\\n== References =='"
      ]
     },
     "execution_count": 33,
     "metadata": {},
     "output_type": "execute_result"
    }
   ],
   "execution_count": 33
  },
  {
   "metadata": {
    "ExecuteTime": {
     "end_time": "2025-06-28T09:52:17.052271Z",
     "start_time": "2025-06-28T09:52:17.045821Z"
    }
   },
   "cell_type": "code",
   "source": [
    "prompt = ChatPromptTemplate.from_messages(\n",
    "    [\n",
    "        (\n",
    "            \"system\",\n",
    "            formatted,\n",
    "        ),\n",
    "        (\"human\", \"{input}\"),\n",
    "    ]\n",
    ")"
   ],
   "id": "3b3a2aaa8f94740",
   "outputs": [],
   "execution_count": 30
  },
  {
   "metadata": {
    "ExecuteTime": {
     "end_time": "2025-06-28T09:52:36.521964Z",
     "start_time": "2025-06-28T09:52:35.411789Z"
    }
   },
   "cell_type": "code",
   "source": [
    "chain = prompt | llm\n",
    "chain.invoke(\n",
    "    {\n",
    "        \"input\": \"when was he elected as president of india?\",\n",
    "    })"
   ],
   "id": "a5eeaa77e2fd5dbe",
   "outputs": [
    {
     "data": {
      "text/plain": [
       "AIMessage(content='A. P. J. Abdul Kalam was elected as the president of India in 2002.', additional_kwargs={}, response_metadata={'prompt_feedback': {'block_reason': 0, 'safety_ratings': []}, 'finish_reason': 'STOP', 'model_name': 'gemini-2.0-flash', 'safety_ratings': []}, id='run--2d9c104f-1419-46fb-9772-f067d48a1b03-0', usage_metadata={'input_tokens': 2140, 'output_tokens': 23, 'total_tokens': 2163, 'input_token_details': {'cache_read': 0}})"
      ]
     },
     "execution_count": 32,
     "metadata": {},
     "output_type": "execute_result"
    }
   ],
   "execution_count": 32
  },
  {
   "metadata": {
    "ExecuteTime": {
     "end_time": "2025-06-28T09:54:45.070722Z",
     "start_time": "2025-06-28T09:54:44.002519Z"
    }
   },
   "cell_type": "code",
   "source": [
    "chain.invoke(\n",
    "    {\n",
    "        \"input\": \"where was he born?\",\n",
    "    })"
   ],
   "id": "aa26848ec371e9c6",
   "outputs": [
    {
     "data": {
      "text/plain": [
       "AIMessage(content='Avul Pakir Jainulabdeen Abdul Kalam was born in the pilgrimage center of Rameswaram on Pamban Island, Madras Presidency (now in the Indian state of Tamil Nadu).', additional_kwargs={}, response_metadata={'prompt_feedback': {'block_reason': 0, 'safety_ratings': []}, 'finish_reason': 'STOP', 'model_name': 'gemini-2.0-flash', 'safety_ratings': []}, id='run--a8149e3f-bea1-4fa9-8114-e5fc3c73e93f-0', usage_metadata={'input_tokens': 2136, 'output_tokens': 40, 'total_tokens': 2176, 'input_token_details': {'cache_read': 0}})"
      ]
     },
     "execution_count": 34,
     "metadata": {},
     "output_type": "execute_result"
    }
   ],
   "execution_count": 34
  },
  {
   "metadata": {
    "ExecuteTime": {
     "end_time": "2025-06-28T09:55:57.510535Z",
     "start_time": "2025-06-28T09:55:55.988245Z"
    }
   },
   "cell_type": "code",
   "source": [
    "chain.invoke(\n",
    "    {\n",
    "        \"input\": \"list top 3 accomplishments of his career\",\n",
    "    })"
   ],
   "id": "b6dd5a7c0b709fdc",
   "outputs": [
    {
     "data": {
      "text/plain": [
       "AIMessage(content='Based on the provided text, here are three of A.P.J. Abdul Kalam\\'s top accomplishments:\\n\\n1.  **Development of Ballistic Missile and Launch Vehicle Technology:** He was known as the \"Missile Man of India\" for his significant contributions to this area.\\n2.  **Pivotal Role in Pokhran-II Nuclear Tests (1998):** He played a crucial organizational, technical, and political role in these tests, which were India\\'s second set of nuclear tests.\\n3.  **Presidency of India (2002-2007):** He served as the 11th president of India and was widely known as the \"People\\'s President.\"', additional_kwargs={}, response_metadata={'prompt_feedback': {'block_reason': 0, 'safety_ratings': []}, 'finish_reason': 'STOP', 'model_name': 'gemini-2.0-flash', 'safety_ratings': []}, id='run--1bfca360-c9cd-4d49-98c2-a7969a155a76-0', usage_metadata={'input_tokens': 2139, 'output_tokens': 151, 'total_tokens': 2290, 'input_token_details': {'cache_read': 0}})"
      ]
     },
     "execution_count": 35,
     "metadata": {},
     "output_type": "execute_result"
    }
   ],
   "execution_count": 35
  },
  {
   "metadata": {
    "ExecuteTime": {
     "end_time": "2025-06-28T10:10:25.598092Z",
     "start_time": "2025-06-28T10:10:23.237579Z"
    }
   },
   "cell_type": "code",
   "source": [
    "chain.invoke(\n",
    "    {\n",
    "        \"input\": \"explain like i'm 5 years old\",\n",
    "    })"
   ],
   "id": "4e1c03f8fa9f63e6",
   "outputs": [
    {
     "data": {
      "text/plain": [
       "AIMessage(content='Okay, imagine a really smart and kind grandpa named Abdul Kalam. He loved science and rockets!\\n\\nWhen he was a little boy, he had to sell newspapers to help his family. But he was also a very good student and loved learning.\\n\\nHe grew up to be a scientist who helped India build rockets and missiles. That\\'s why people called him the \"Missile Man of India\"!\\n\\nLater, he became the President of India, which is like being the boss of the whole country! Everyone loved him because he was kind and always encouraged kids to study and learn. They called him the \"People\\'s President\"!\\n\\nHe got lots of awards for being so smart and helpful. Even after he stopped being President, he kept teaching and writing books to inspire people.\\n\\nSadly, he died while giving a speech, but everyone remembers him as a great scientist, a kind leader, and someone who always wanted everyone to learn and do their best!\\n\\nSo, Abdul Kalam was a super smart and kind person who loved science and wanted everyone to be happy and successful!', additional_kwargs={}, response_metadata={'prompt_feedback': {'block_reason': 0, 'safety_ratings': []}, 'finish_reason': 'STOP', 'model_name': 'gemini-2.0-flash', 'safety_ratings': []}, id='run--5cbebd33-2d1e-4520-9f9f-05d1c357b4f6-0', usage_metadata={'input_tokens': 2140, 'output_tokens': 217, 'total_tokens': 2357, 'input_token_details': {'cache_read': 0}})"
      ]
     },
     "execution_count": 36,
     "metadata": {},
     "output_type": "execute_result"
    }
   ],
   "execution_count": 36
  },
  {
   "metadata": {
    "ExecuteTime": {
     "end_time": "2025-07-03T04:48:32.775779Z",
     "start_time": "2025-07-03T04:48:25.587291Z"
    }
   },
   "cell_type": "code",
   "source": [
    "def format_docs(docs):\n",
    "    return \"\\n\\n\".join(doc.page_content for doc in docs)\n",
    "\n",
    "import wikipedia\n",
    "from urllib.parse import urlparse, unquote\n",
    "\n",
    "def fetch_wiki_content(title: str) -> str:\n",
    "    try:\n",
    "        page = wikipedia.page(title)\n",
    "        return page.content\n",
    "    except wikipedia.exceptions.DisambiguationError as e:\n",
    "        return f\"Disambiguation error: multiple results found for '{title}'. Options: {e.options}\"\n",
    "    except wikipedia.exceptions.PageError:\n",
    "        return f\"Page not found for '{title}'.\"\n",
    "    except Exception as ex:\n",
    "        return f\"An error occurred: {str(ex)}\"\n",
    "\n",
    "def get_title_from_url(url: str) -> str:\n",
    "    \"\"\"\n",
    "    Extracts the Wikipedia page title from a given Wikipedia URL.\n",
    "    Supports URLs like:\n",
    "    - https://en.wikipedia.org/wiki/A._P._J._Abdul_Kalam\n",
    "    - https://en.wikipedia.org/wiki/Barack_Obama\n",
    "\n",
    "    Returns:\n",
    "        str: Decoded page title (spaces instead of underscores)\n",
    "    \"\"\"\n",
    "    try:\n",
    "        path = urlparse(url).path  # e.g. /wiki/A._P._J._Abdul_Kalam\n",
    "        if not path.startswith(\"/wiki/\"):\n",
    "            raise ValueError(\"Not a valid Wikipedia article URL\")\n",
    "        title = path.split(\"/wiki/\")[1]  # Get the part after /wiki/\n",
    "        return unquote(title.replace(\"_\", \" \"))  # Decode and clean\n",
    "    except Exception as e:\n",
    "        raise ValueError(f\"Invalid URL format: {e}\")\n",
    "\n"
   ],
   "id": "4d5e2b2459538ecf",
   "outputs": [],
   "execution_count": 2
  },
  {
   "metadata": {},
   "cell_type": "code",
   "source": [
    "url = \"https://en.wikipedia.org/wiki/A.P.J.Abdul_Kalam\"\n",
    "title = get_title_from_url(url)\n",
    "print(title)"
   ],
   "id": "38796198eb574671",
   "outputs": [
    {
     "name": "stdout",
     "output_type": "stream",
     "text": [
      "A.P.J.Abdul Kalam\n"
     ]
    }
   ],
   "execution_count": 3
  },
  {
   "metadata": {
    "ExecuteTime": {
     "end_time": "2025-07-03T04:49:32.152959Z",
     "start_time": "2025-07-03T04:49:17.339663Z"
    }
   },
   "cell_type": "code",
   "source": "fetch_wiki_content(title)",
   "id": "571a39e3686f1471",
   "outputs": [
    {
     "data": {
      "text/plain": [
       "'Avul Pakir Jainulabdeen Abdul Kalam (  UB-duul kə-LAHM; 15 October 1931 – 27 July 2015) was an Indian aerospace scientist and statesman who served as the  president of India from 2002 to 2007.\\nBorn and raised in a Muslim family in Rameswaram, Tamil Nadu, Kalam studied physics and aerospace engineering. He spent the next four decades as a scientist and science administrator, mainly at the Defence Research and Development Organisation (DRDO) and Indian Space Research Organisation (ISRO) and was intimately involved in India\\'s civilian space programme and military missile development efforts. He was known as the \"Missile Man of India\" for his work on the development of ballistic missile and launch vehicle technology. He also played a pivotal organisational, technical, and political role in Pokhran-II nuclear tests in 1998, India\\'s second such test after the first test in 1974.\\nKalam was elected as the president of India in 2002 with the support of both the ruling Bharatiya Janata Party and the then-opposition Indian National Congress. He was widely referred to as the \"People\\'s President\". He engaged in teaching, writing and public service after his presidency. He was a recipient of several awards, including the Bharat Ratna, India\\'s highest civilian honour.\\nWhile delivering a lecture at IIM Shillong, Kalam collapsed and died from an apparent cardiac arrest on 27 July 2015, aged 83. Thousands attended the funeral ceremony held in his hometown of Rameswaram, where he was buried with full state honours. A memorial was inaugurated near his home town in 2017.\\n\\n\\n== Early life and education ==\\nAvul Pakir Jainulabdeen Abdul Kalam was born on 15 October 1931 to a Tamil Muslim family in the pilgrimage center of Rameswaram on Pamban Island, Madras Presidency (now in the Indian state of Tamil Nadu). His father, Jainulabdeen Marakayar, was a boat owner and imam of a local mosque, and his mother, Ashiamma, was a housewife. His father owned a boat that ferried Hindu pilgrims between Rameswaram and Dhanushkodi.\\n\\nKalam was the youngest of four brothers and a sister in the family. His ancestors had been wealthy Marakayar traders and landowners, with numerous properties and large tracts of land. Marakayar are a Muslim ethnic group found in coastal Tamil Nadu and Sri Lanka who claim descent from Arab traders and local women. The family business had involved trading goods and transporting passengers between the Indian mainland and the Pamban Island and to and from Sri Lanka. With the opening of the Pamban Bridge connecting Pamban Island to mainland India in 1914, the businesses failed. As a result, apart from the ancestral home, the other family fortune and properties were lost by the 1920s, and the family was poverty-stricken by the time Kalam was born. As a young boy, he delivered newspapers to support the family\\'s meager income.\\nIn his school years, Kalam got average grades but was described by his teachers as a bright and hardworking student with a strong desire to learn. He spent hours learning Mathematics. He did his schooling at Schwartz Higher Secondary School in Ramanathapuram. He then graduated in Physics from St. Joseph\\'s College, Tiruchirappalli, in 1954.\\nKalam moved to Madras in 1955 to study aerospace engineering at the Madras Institute of Technology. While he was working on a class project, the Dean of the institution was dissatisfied with his lack of progress and threatened to revoke his scholarship unless the project was finished within the next three days. Kalam met the deadline, impressing the Dean, who later said to him, \"I was putting you under stress and asking you to meet a difficult deadline.\" Later, he narrowly missed out on his dream of becoming a fighter pilot, as he placed ninth in qualifiers, and only eight positions were available in the Indian Air Force.\\n\\n\\n== Career as a scientist ==\\n\\nAfter graduating from the Madras Institute of Technology in 1960, Kalam became a member of the Defence Research & Development Service and joined the Aeronautical Development Establishment of the Defence Research and Development Organisation (DRDO) as a scientist. During his early career, he was involved in the design of small hovercraft, and remained unconvinced by his choice of a job at DRDO. Later, he joined the Indian National Committee for Space Research, working under renowned space scientist Vikram Sarabhai. He was interviewed and recruited into Indian Space Research Organisation (ISRO) by H. G. S. Murthy, the first director of the Thumba Equatorial Rocket Launching Station.\\nIn 1969, Kalam transferred to ISRO where he became the project director of India\\'s first satellite launch vehicle (SLV) which successfully deployed the Rohini satellite in near-earth orbit in July 1980. He had earlier started work on an expandable rocket project independently at DRDO in 1965. In 1969, Kalam received the approval from the Government of India to expand the programme to include more engineers. In 1963–64, he visited NASA\\'s Langley Research Center in Hampton, Goddard Space Flight Center in Greenbelt, and Wallops Flight Facility. Since the late 1970s, Kalam was part of the effort to develop the SLV-3 and Polar Satellite Launch Vehicle (PSLV), both of which were successful.\\nIn May 1974, Kalam was invited by Raja Ramanna to witness the country\\'s first nuclear test Smiling Buddha as the representative of Terminal Ballistics Research Laboratory, even though he was officially not part of the project. In the 1970s, Kalam directed two projects, Project Devil and Project Valiant, which sought to develop ballistic missiles using the technology from the successful SLV programme. Despite the disapproval of the union cabinet, then Prime Minister Indira Gandhi allotted funds for these aerospace projects under Kalam\\'s directorship through her discretionary powers. Kalam also played a major role in convincing the cabinet to conceal the true nature of these classified projects. His research and leadership brought him recognition in the 1980s, which prompted the government to initiate an advanced missile programme under his directorship.\\nKalam worked with metallurgist V. S. R. Arunachalam, who was then scientific adviser to the Defence Minister, on the suggestion by the then Defence Minister R. Venkataraman on the simultaneous development of a quiver of missiles instead of taking planned missiles one after another. Venkatraman was instrumental in getting the cabinet approval for allocating ₹3.88 billion (equivalent to ₹66 billion or US$780 million in 2023) for the project titled Integrated Guided Missile Development Programme (IGMDP) and appointed Kalam as its chief executive. Kalam played a major role in the development of missiles including Agni, an intermediate range ballistic missile and Prithvi, the tactical surface-to-surface missile, despite inflated costs and time overruns. He was known as the \"Missile Man of India\" for his work on the development of ballistic missile and launch vehicle technology.\\nKalam served as the chief scientific adviser to the prime minister and secretary of the DRDO from July 1992 to December 1999. He played a key organisational, political and technical role in the Pokhran-II nuclear tests conducted in May 1998. Along with Rajagopala Chidambaram, he served as the chief project coordinator for the tests. Media coverage of Kalam during this period made him the country\\'s best known nuclear scientist. However, the director of the site test, K. Santhanam, said that the thermonuclear bomb had been a \"fizzle\" and criticised Kalam for issuing an incorrect report. The claim was refuted and rejected by Kalam and Chidambaram.\\nIn 1998, Kalam worked with cardiologist Bhupathiraju Somaraju and developed a low cost coronary stent, named the \"Kalam-Raju stent\". In 2012, the duo designed a tablet computer named the \"Kalam-Raju tablet\" for usage by healthcare workers in rural areas.\\n\\n\\n== Presidency ==\\n\\nOn 10 June 2002, the National Democratic Alliance which was in power at the time, expressed its intention to nominate Kalam for the post of the President of India. His candidature was backed by the opposition parties including the Samajwadi Party and the Nationalist Congress Party. After the support for Kalam, incumbent president K. R. Narayanan chose not to seek a re-election. Kalam said of the announcement of his candidature:\\n\\nI am really overwhelmed. Everywhere both in Internet and in other media, I have been asked for a message. I was thinking what message I can give to the people of the country at this juncture.\\nOn 18 June, Kalam filed his nomination papers in the Indian Parliament, accompanied by then prime minister Atal Bihari Vajpayee and senior cabinet members. He faced off against Lakshmi Sahgal, and the polling for the presidential election was held on 15 July 2002, in the Indian parliament and the state assemblies, with the media predicting a win for Kalam. The counting was held on 18 July, and Kalam won the elections after securing 922,884 electoral votes as against the 107,366 votes won by Sahgal. He was sworn in as the 11th president of India on 25 July 2002. He was the first scientist and the first bachelor to occupy the top chair at Rashtrapati Bhawan.\\n\\nDuring his term as president, he was affectionately known as the \"People\\'s President\". He later stated that signing the Office of profit bill was the toughest decision he had taken during his tenure. In September 2003, during an interactive session at PGIMR in Chandigarh, Kalam asserted the need of Uniform Civil Code in India, keeping in view the population of the country. He also took a decision to impose President\\'s rule in Bihar in 2005. However, during his tenure as president, he made no decision on 20 out of the 21 mercy petitions submitted to him to commute death penalties, including that of terrorist Afzal Guru, who was convicted of conspiracy in the December 2001 attack on the Indian Parliament and was sentenced to death by the Supreme Court of India in 2004. He acted only on a single plea, rejecting that of Dhananjoy Chatterjee, who was later hanged.\\nTowards the end of his term, on 20 June 2007, Kalam expressed his willingness to consider a second term in office provided there was certainty about his victory in the upcoming presidential election. His name was proposed by the United National Progressive Alliance, but he did receive the support of the ruling United Progressive Alliance. However, two days later, he decided not to contest the election again stating that he wanted to avoid involving the Rashtrapati Bhavan in the political processes.\\n\\nIn April 2012, towards the expiry of the term of the 12th president Pratibha Patil, media reports claimed that Kalam was likely to be nominated for his second term. After the reports, social networking sites witnessed a surge in posts supporting his candidature. While the ruling Indian National Congress opposed the nomination of Kalam, other parties such as the Bharatiya Janata Party and the Trinamool Congress were reported by the media to be keen on his candidature. On 18 June 2012, Kalam declined to contest stating that:\\n\\nMany, many citizens have also expressed the same wish. It only reflects their love and affection for me and the aspiration of the people. I am really overwhelmed by this support. This being their wish, I respect it. I want to thank them for the trust they have in me.\\n\\n\\n== Post-presidency ==\\n\\nAfter leaving office, Kalam returned to teaching, and became a visiting professor at various institutions. He became a visiting professor at IIM Shillong, an honorary professor at his alma mater Anna University in Chennai, and an honorary fellow of the Indian Institute of Science at Bengaluru. In September 2007, he became the first chancellor of the newly established Indian Institute of Space Science and Technology at Thiruvananthapuram. He also conducted lectures for management students in India, and visited China twice at the invitation of the Chinese government to conduct sessions at the Peking University.\\nIn 2011, Kalam voiced his support towards the establishment of the nuclear power plant at Koodankulam in Tamil Nadu, giving assurances for the safety of the facility. However, some of the locals were unconvinced by his statements on the safety of the plant, and were hostile to his visit. In May 2012, Kalam launched a programme called What Can I Give Movement aimed at the youth of India with a central theme of defeating corruption.\\n\\n\\n== Death ==\\n\\nOn 27 July 2015, Kalam travelled to Shillong to deliver a lecture on \"Creating a Livable Planet Earth\" at IIM Shillong. While climbing a flight of stairs, he experienced some discomfort, but was able to enter the auditorium after a brief rest. At around 6:35 p.m. IST, after five minutes into his lecture, he collapsed. He was rushed to the nearby Bethany Hospital in a critical condition, and upon arrival, he lacked a pulse or any other signs of life. Despite being placed in the intensive care unit, he was confirmed dead of a sudden cardiac arrest at 7:45 p.m. His purported last words to his aide Srijan Pal Singh were: \"Funny guy! Are you doing well?\"\\n\\n\\n=== Aftermath ===\\n\\nFollowing his death, the people of India paid tributes on social media. The Government of India declared a seven-day state mourning period as a mark of respect. Various leaders from India and abroad condoled the death of Kalam.\\nKalam\\'s body was flown to New Delhi on the morning of 28 July, where dignitaries including then president, vice president, and prime minister paid their last respects. His body was placed in his Delhi residence for public viewing. On 29 July, his body was flown to the town of Mandapam via Madurai, and was carried towards his home town of Rameswaram by road. His body was displayed in an open area to allow the public to pay their final respects until 8 p.m. that evening. On 30 July 2015, following an Islamic burial prayer performed by the local imam, he was laid to rest at Rameswaram\\'s Pei Karumbu ground with full state honours with over 350,000 people in attendance.\\nDr. A. P. J. Abdul Kalam Memorial was built in memory of Kalam by the DRDO in Pei Karumbu in Rameswaram. It was inaugurated by then prime minister Narendra Modi in July 2017. The memorial displays replicas of rockets and missiles which Kalam had worked with, and various acrylic paintings about his life. There is a large statue of Kalam in the entrance showing him playing the veena, and two other smaller statues in sitting and standing posture respectively.\\n\\n\\n== Personal life and interests ==\\n\\nKalam was the youngest of five siblings, the eldest of whom was a sister, Asim Zohra (d.\\u20091997), followed by three elder brothers: Mohammed Lebbai (5 November 1916–7 March 2021), Mustafa Kalam (d.\\u20091999) and Kasim Mohammed (d.\\u20091995). He was close to his elder siblings and their extended families throughout his life, and would regularly send small sums of money to his older siblings, though he himself remaining a lifelong bachelor.\\nKalam was noted for his integrity and his simple lifestyle. He was a teetotaler, and a vegetarian. Kalam enjoyed writing Tamil poetry, playing the veena (an Indian string instrument), and listening to Carnatic devotional music every day. He never owned a television, and was in the habit of rising at 6:30 or 7 a.m. and sleeping by 2 a.m. His personal possessions included a few books, a veena, clothing, a compact disc player and a laptop. He left no will, and his possessions went to his eldest brother after his death.\\nKalam set a target of interacting with 100,000 students during the two years after his resignation from the post of scientific adviser in 1999. He explained, \"I feel comfortable in the company of young people, particularly high school students. Henceforth, I intend to share with them experiences, helping them to ignite their imagination and preparing them to work for a developed India for which the road map is already available.\" His dream is to let every student to light up the sky with victory using their latent fire in the heart. He had an active interest in other developments in the field of science and technology such as developing biomedical implants. He also supported open source technology over proprietary software, predicting that the use of free software on a large scale would bring the benefits of information technology to more people.\\n\\n\\n=== Religious and spiritual views ===\\nReligion and spirituality were very important to Kalam throughout his life. He was a  practising Sunni Muslim, and daily namaz and fasting during Ramadan were integral to his life. His father was an imam of a mosque, and had strictly instilled these Islamic customs in his children. His father had also impressed upon the young Kalam the value of interfaith respect and dialogue. As Kalam recalled: \"Every evening, my father A. P. Jainulabdeen, an imam, Pakshi Lakshmana Sastry, the head priest of the Ramanathaswamy Hindu temple, and a church priest used to sit with hot tea and discuss the issues concerning the island.\" Such early exposure convinced Kalam that the answers to India\\'s multitudinous issues lay in \"dialogue and cooperation\" among the country\\'s religious, social, and political leaders. Moreover, since Kalam believed that \"respect for other faiths\" was one of the key cornerstones of Islam, and he remarked: \"For great men, religion is a way of making friends; small people make religion a fighting tool.\"\\nOne component of Kalam\\'s widespread popularity among diverse groups in India, and an enduring aspect of his legacy, is the syncretism he embodied in appreciating various elements of the many spiritual and cultural traditions of India. In addition to his faith in the Quran and Islamic practice, Kalam was well-versed in Hindu traditions, learnt Sanskrit. and read the Bhagavad Gita. In 2002, in one of his early speeches to Parliament after becoming the president, he reiterated his desire for a more united India, stating that \"During the last one year I met a number of spiritual leaders of all religions ... and I would like to endeavour to work for bringing about unity of minds among the divergent traditions of our country\". Describing Kalam as a unifier of diverse traditions, Shashi Tharoor remarked, \"Kalam was a complete Indian, an embodiment of the eclecticism of India\\'s heritage of diversity\". Former deputy prime minister L. K. Advani concurred that Kalam was \"the best exemplar of the Idea of India, one who embodied the best of all the cultural and spiritual traditions that signify India\\'s unity in immense diversity.\\nKalam\\'s desire to meet spiritual leaders led him to meet Pramukh Swami Maharaj, the Hindu guru of the Bochasanwasi Shri Akshar Purushottam Swaminarayan Sanstha (BAPS), who Kalam would come to consider his ultimate spiritual teacher and guru. Kalam and Pramukh Swami met eight times over a fourteen-year period and on his first meeting on 30 June 2001, Kalam described being immediately drawn to Pramukh Swami\\'s simplicity and spiritual purity. Kalam stated that he was inspired by Pramukh Swami throughout their numerous interactions, and recalled being moved by Swami\\'s equanimity and compassion, citing this incident as one of his motivations for writing his experiences as a book later. Summarising the effect that Pramukh Swami had on him, Kalam stated that \"[Pramukh Swami] has indeed transformed me. He is the ultimate stage of the spiritual ascent in my life ... Pramukh Swamiji has put me in a God-synchronous orbit. No manoeuvres are required any more, as I am placed in my final position in eternity.\"\\n\\n\\n== Writings ==\\n\\nKalam has authored various books during his career, and his books have garnered interest in various countries.\\nIn his book India 2020, he strongly advocated an action plan to develop India into a \"knowledge superpower\" and a developed nation by 2020. He regarded his work on India\\'s nuclear weapons programme as a way to assert India\\'s place as a future superpower.\\n\\nI have identified five areas where India has a core competence for integrated action: (1) agriculture and food processing; (2) education and healthcare; (3) information and communication technology; (4) infrastructure, reliable and quality electric power, surface transport and infrastructure for all parts of the country; and (5) self-reliance in critical technologies. These five areas are closely inter-related and if advanced in a coordinated way, will lead to food, economic and national security.\\nKalam described a \"transformative moment\" in his life in his book Transcendence: My Spiritual Experiences with Pramukh Swamiji. When he asked Pramukh Swami on how India might realise his vision of development, Swami answered to add a sixth area of developing faith in God and spirituality to overcome the current climate of crime and corruption.\\n\\nBibliography\\nThe following are the books authored by Kalam:\\n\\nA. P. J. Abdul Kalam; Roddam Narasimha (1988). Developments in Fluid Mechanics and Space Technology. Indian Academy of Sciences.\\nA. P. J. Abdul Kalam; Y. S. Rajan (1998). India 2020: A Vision for the New Millennium. Penguin Random House. ISBN 978-0-670-88271-7.\\nA. P. J. Abdul Kalam; Arun Tiwari (1999). Wings of Fire. Universities Press. ISBN 978-8-173-71146-6.\\nA. P. J. Abdul Kalam (2002). Ignited Minds: Unleashing the Power within India. Penguin Books. ISBN 978-0-670-04928-8.\\nA. P. J. Abdul Kalam; A. Sivathanu Pillai (2004). Envisioning an Empowered Nation: Technology for Societal Transformation. McGraw-Hill. ISBN 978-0-070-53154-3.\\nA. P. J. Abdul Kalam (2004). The Luminous Sparks: A Biography in Verse and Colours. Punya Publishing. ISBN 978-8-190-18978-1.\\nA. P. J. Abdul Kalam; Arun Tiwari (2005). Guiding Souls: Dialogues on the Purpose of Life. Ocean Books. ISBN 978-8-188-32274-9.\\nA. P. J. Abdul Kalam; Manav Gupta (2005). Mission India : A Vision for Indian youth. Penguin Books. ISBN 978-0-14-333499-6.\\nA. P. J. Abdul Kalam (2007). Inspiring Thoughts: Quotation Series. Rajpal & Sons. ISBN 978-81-7028-684-4.\\nA. P. J. Abdul Kalam; Arun Tiwari (2010). You Are Born To Blossom: Take my Journey Beyond. Ocean Books. ISBN 978-8-184-30037-6.\\nA. P. J. Abdul Kalam; Y. S. Rajan (2011). The Scientific India: A Twenty First Century Guide to the World around Us. Penguin Books. ISBN 978-0-143-41687-6.\\nA. P. J. Abdul Kalam; Arun Tiwari (2011). Failure to Success: Legendry Lives. Orient Blackswan. ISBN 978-8-125-04212-9.\\nA. P. J. Abdul Kalam; Srijan Pal Singh (2011). Target 3 Billion: Innovative Solutions towards Sustainable Development. Penguin Books. ISBN 978-0-143-41730-9.\\nA. P. J. Abdul Kalam; Poonam Kohli (2012). You are Unique: Scale New Heights by Thoughts and Actions. Punya Publishing. ISBN 978-0-143-41730-9.\\nA. P. J. Abdul Kalam (2012). Turning Points: A Journey through Challenges. Harper Collins. ISBN 978-9-350-29347-8.\\nA. P. J. Abdul Kalam (2013). Indomitable Spirit. Rajpal & Sons. ISBN 978-8-170-28879-4.\\nA. P. J. Abdul Kalam (2013). Spirit of India. Rajpal & Sons. ISBN 978-8-170-28795-7.\\nA. P. J. Abdul Kalam (2014). My Journey: Transforming Dreams into Actions. Rupa Publications. ISBN 978-8-129-12491-3.\\nA. P. J. Abdul Kalam; A. Sivathanu Pillai (2014). We Can do it: Thoughts for Change. Shree Book Centre. ISBN 978-9-350-49763-0.\\nA. P. J. Abdul Kalam (2014). Governance for Growth in India. Rupa Publications. ISBN 978-8-129-13260-4.\\nA. P. J. Abdul Kalam; V. Ponraj (2014). A Manifesto for Change: A Sequel to India 2020. Harper Collins. ISBN 978-9-351-36172-5.\\nA. P. J. Abdul Kalam (2014). Forge Your Future: Candid, Forthright, Inspiring. Rajpal & Sons. ISBN 978-93-5064-279-5.\\nA. P. J. Abdul Kalam (2014). Beyond 2020: A Vision for Tomorrow\\'s India. Viking Publishing. ISBN 978-0-670-08796-9.\\nA. P. J. Abdul Kalam (2015). The Guiding Light: A Selection of Quotations from My Favourite Books. Rupa Publications. ISBN 978-8-129-13486-8.\\nA. P. J. Abdul Kalam; Srijan Pal Singh (2015). Reignited: Scientific Pathways to a Brighter Future. Penguin Books. ISBN 978-0-143-33354-8.\\nA. P. J. Abdul Kalam; Acharya Mahapragya (2015). The Family and the Nation. Harper Collins. ISBN 978-8-172-23727-1.\\nA. P. J. Abdul Kalam; Arun Tiwari (2015). Transcendence: My Spiritual Experiences with Pramukh Swamiji. Harper Collins. ISBN 978-9-351-77405-1.\\nA. P. J. Abdul Kalam; Srijan Pal Singh (2015). Advantage India: From Challenge to Opportunity. Harper Collins. ISBN 978-9-351-77645-1.\\n\\n\\n== Awards and honours ==\\n\\nKalam received honorary doctorates from various universities. The Government of India honoured him with the Padma Bhushan in 1981 and the Padma Vibhushan in 1990. In 1997, he was awarded India\\'s highest civilian honour, the Bharat Ratna, for his contribution to the scientific research and modernisation of defence technology in India. He received the Indira Gandhi Award for National Integration in 1997, Savarkar Award in 1998, and Ramanujan Award in 2000. In 2008, he was the recipient of Hoover Medal. In 2013, he was awarded the Von Braun Award by the National Space Society \"to recognize excellence in the management and leadership of a space-related project\".\\n\\n\\n== Legacy ==\\n\\nKalam\\'s birthday is celebrated as World Students\\' Day in India. In 2012, Kalam was ranked second in the Greatest Indian poll conducted by Outlook. In September 2014, India and the United States launched the Fulbright-Kalam climate fellowship which enabled six Indian doctoral students and researchers to work with institutions in the US for a period of 6–12 months. In 2015, the Government of Tamil Nadu announced that Kalam\\'s birthday, 15 October, would be observed as \"Youth Renaissance Day\". It also instituted the \"Dr. A. P. J. Abdul Kalam Award\" constituting a gold medal, a certificate and ₹500,000 (US$5,900), to be awarded annually on the Indian Independence Day, to residents of the state with achievements in promoting scientific growth, the humanities or the welfare of students. On the anniversary of Kalam\\'s birth in 2015, the Central Board of Secondary Education (CBSE) released topics on his name as a part of the CBSE expression series. On the same day, India Post released postage stamps commemorating the 84th anniversary of Kalam\\'s birth.\\nIn 2017, researchers at the NASA\\'s Jet Propulsion Laboratory discovered a new bacterium on the filters of the International Space Station and named it Solibacillus kalamii to honour Kalam. In February 2018, scientists from the Botanical Survey of India named a newly found plant species as Drypetes kalamii, in his honour. In 2022, a newly discovered species of footballfish was named as Himantolophus kalami in Kalam\\'s honour. In 2023, a newly discovered tardigrade was named Batillipes kalami after him.\\nSeveral places and locations have been named after Kalam. In August 2015, Aurangzeb Road in New Delhi was named after Kalam as Dr APJ Abdul Kalam Road. In September 2015, the national missile test site in Odisha in Wheeler Island was renamed as Abdul Kalam Island. In October 2015, a 6,180 m (20,280 ft) peak near the Bara Shigri Glacier in the Himalayas was named as Mount Kalam. Dr APJ Abdul Kalam Missile Complex, a missile research facility in Hyderabad is named after him. Dr. A. P. J. Abdul Kalam Science City in Patna, and Dr. Abdul Kalam Science Centre and Planetarium in Puducherry are named in honour of Kalam. Several universities, and other educational institutions and other locations were renamed or named in honour of Kalam.\\n\\n\\n== In popular culture ==\\nBiographies\\nEternal Quest: Life and Times of Dr Kalam by S Chandra; Pentagon Publishers, 2002.\\nPresident A P J Abdul Kalam by R K Pruthi; Anmol Publications, 2002.\\nA P J Abdul Kalam: The Visionary of India by K Bhushan, G Katyal; A P H Pub Corp, 2002.\\nThe Kalam Effect: My Years with the President by P M Nair; HarperCollins, 2008.\\nMy Days With Mahatma Abdul Kalam by Fr A K George; Novel Corporation, 2009.\\nA.P.J. Abdul Kalam: A Life by Arun Tiwari; Harper Collins, 2015.\\nThe People\\'s President: Dr A P J Abdul Kalam by S M Khan; Bloomsbury Publishing, 2016.\\nFilm and media\\nIn 2008, a documentary film A Little Dream directed by P. Dhanapal was released in India. In the 2011 Hindi film I Am Kalam, Kalam is portrayed as a positive influence on a poor but bright Rajasthani boy named Chhotu, who renames himself Kalam in honour of his idol. People\\'s President is a 2016 Indian documentary feature film directed by Pankaj Vyas and produced by the Government of India\\'s Films Division. My Hero Kalam is a 2018 Kannada biographical film by Shivu Hiremath which portrays Kalam\\'s life from childhood to the Pokhran tests. The third episode of Mega Icons (2018–2020), a documentary television series about prominent personalities of India aired on National Geographic was based on Kalam\\'s life. In the 2020 Tamil film Soorarai Pottru, Sheik Maideen portrayed Kalam. In Rocket Boys, a Hindi biographical streaming television series on SonyLIV, the character of Kalam was played by Arjun Radhakrishnan. In the 2022 Tamil film Rocketry: The Nambi Effect, Kalam is portrayed by Amaan.\\n\\n\\n== See also ==\\nPresidency of A. P. J. Abdul Kalam\\nList of presidents of India\\n\\n\\n== References ==\\n\\n\\n== External links ==\\n\\nOfficial website Archived 27 February 2021 at the Wayback Machine\\nWebsite of Dr. APJ Abdul Kalam during his tenureship as the President of India, hosted by the National Informatics Centre\\nA. P. J. Abdul Kalam at IMDb'"
      ]
     },
     "execution_count": 4,
     "metadata": {},
     "output_type": "execute_result"
    }
   ],
   "execution_count": 4
  }
 ],
 "metadata": {
  "kernelspec": {
   "display_name": "Python 3",
   "language": "python",
   "name": "python3"
  },
  "language_info": {
   "codemirror_mode": {
    "name": "ipython",
    "version": 2
   },
   "file_extension": ".py",
   "mimetype": "text/x-python",
   "name": "python",
   "nbconvert_exporter": "python",
   "pygments_lexer": "ipython2",
   "version": "2.7.6"
  }
 },
 "nbformat": 4,
 "nbformat_minor": 5
}
