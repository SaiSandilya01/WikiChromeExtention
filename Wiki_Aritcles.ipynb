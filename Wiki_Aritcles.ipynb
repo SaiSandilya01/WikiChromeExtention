{
 "cells": [
  {
   "metadata": {
    "ExecuteTime": {
     "end_time": "2025-06-28T09:33:12.545145Z",
     "start_time": "2025-06-28T09:33:08.070405Z"
    }
   },
   "cell_type": "code",
   "source": [
    "import os\n",
    "import json\n",
    "from langchain_community.vectorstores import Chroma\n",
    "from langchain_community.embeddings import HuggingFaceEmbeddings\n",
    "from langchain_google_genai import ChatGoogleGenerativeAI\n",
    "from langchain.chains import RetrievalQA\n",
    "from langchain.schema import Document"
   ],
   "id": "d817a1ae6d114e1b",
   "outputs": [],
   "execution_count": 7
  },
  {
   "cell_type": "code",
   "id": "initial_id",
   "metadata": {
    "collapsed": true,
    "ExecuteTime": {
     "end_time": "2025-06-28T09:27:00.417638Z",
     "start_time": "2025-06-28T09:26:57.975455Z"
    }
   },
   "source": [
    "from langchain_community.retrievers import WikipediaRetriever\n",
    "\n",
    "retriever = WikipediaRetriever()"
   ],
   "outputs": [],
   "execution_count": 1
  },
  {
   "metadata": {
    "ExecuteTime": {
     "end_time": "2025-06-28T09:29:12.225461Z",
     "start_time": "2025-06-28T09:29:06.758411Z"
    }
   },
   "cell_type": "code",
   "source": "docs = retriever.invoke(\"A.P.J.Abdul_Kalam\")",
   "id": "7e42e375bd9bf606",
   "outputs": [],
   "execution_count": 4
  },
  {
   "metadata": {
    "ExecuteTime": {
     "end_time": "2025-06-28T09:29:13.463506Z",
     "start_time": "2025-06-28T09:29:13.456562Z"
    }
   },
   "cell_type": "code",
   "source": "docs",
   "id": "30ceb661ee526541",
   "outputs": [
    {
     "data": {
      "text/plain": [
       "[Document(metadata={'title': 'A. P. J. Abdul Kalam', 'summary': 'Avul Pakir Jainulabdeen Abdul Kalam (  UB-duul kə-LAHM; 15 October 1931 – 27 July 2015) was an Indian aerospace scientist and statesman who served as the  president of India from 2002 to 2007.\\nBorn and raised in a Muslim family in Rameswaram, Tamil Nadu, Kalam studied physics and aerospace engineering. He spent the next four decades as a scientist and science administrator, mainly at the Defence Research and Development Organisation (DRDO) and Indian Space Research Organisation (ISRO) and was intimately involved in India\\'s civilian space programme and military missile development efforts. He was known as the \"Missile Man of India\" for his work on the development of ballistic missile and launch vehicle technology. He also played a pivotal organisational, technical, and political role in Pokhran-II nuclear tests in 1998, India\\'s second such test after the first test in 1974.\\nKalam was elected as the president of India in 2002 with the support of both the ruling Bharatiya Janata Party and the then-opposition Indian National Congress. He was widely referred to as the \"People\\'s President\". He engaged in teaching, writing and public service after his presidency. He was a recipient of several awards, including the Bharat Ratna, India\\'s highest civilian honour.\\nWhile delivering a lecture at IIM Shillong, Kalam collapsed and died from an apparent cardiac arrest on 27 July 2015, aged 83. Thousands attended the funeral ceremony held in his hometown of Rameswaram, where he was buried with full state honours. A memorial was inaugurated near his home town in 2017.', 'source': 'https://en.wikipedia.org/wiki/A._P._J._Abdul_Kalam'}, page_content='Avul Pakir Jainulabdeen Abdul Kalam (  UB-duul kə-LAHM; 15 October 1931 – 27 July 2015) was an Indian aerospace scientist and statesman who served as the  president of India from 2002 to 2007.\\nBorn and raised in a Muslim family in Rameswaram, Tamil Nadu, Kalam studied physics and aerospace engineering. He spent the next four decades as a scientist and science administrator, mainly at the Defence Research and Development Organisation (DRDO) and Indian Space Research Organisation (ISRO) and was intimately involved in India\\'s civilian space programme and military missile development efforts. He was known as the \"Missile Man of India\" for his work on the development of ballistic missile and launch vehicle technology. He also played a pivotal organisational, technical, and political role in Pokhran-II nuclear tests in 1998, India\\'s second such test after the first test in 1974.\\nKalam was elected as the president of India in 2002 with the support of both the ruling Bharatiya Janata Party and the then-opposition Indian National Congress. He was widely referred to as the \"People\\'s President\". He engaged in teaching, writing and public service after his presidency. He was a recipient of several awards, including the Bharat Ratna, India\\'s highest civilian honour.\\nWhile delivering a lecture at IIM Shillong, Kalam collapsed and died from an apparent cardiac arrest on 27 July 2015, aged 83. Thousands attended the funeral ceremony held in his hometown of Rameswaram, where he was buried with full state honours. A memorial was inaugurated near his home town in 2017.\\n\\n\\n== Early life and education ==\\nAvul Pakir Jainulabdeen Abdul Kalam was born on 15 October 1931 to a Tamil Muslim family in the pilgrimage center of Rameswaram on Pamban Island, Madras Presidency (now in the Indian state of Tamil Nadu). His father, Jainulabdeen Marakayar, was a boat owner and imam of a local mosque, and his mother, Ashiamma, was a housewife. His father owned a boat that ferried Hindu pilgrims between Rameswaram and Dhanushkodi.\\n\\nKalam was the youngest of four brothers and a sister in the family. His ancestors had been wealthy Marakayar traders and landowners, with numerous properties and large tracts of land. Marakayar are a Muslim ethnic group found in coastal Tamil Nadu and Sri Lanka who claim descent from Arab traders and local women. The family business had involved trading goods and transporting passengers between the Indian mainland and the Pamban Island and to and from Sri Lanka. With the opening of the Pamban Bridge connecting Pamban Island to mainland India in 1914, the businesses failed. As a result, apart from the ancestral home, the other family fortune and properties were lost by the 1920s, and the family was poverty-stricken by the time Kalam was born. As a young boy, he delivered newspapers to support the family\\'s meager income.\\nIn his school years, Kalam got average grades but was described by his teachers as a bright and hardworking student with a strong desire to learn. He spent hours learning Mathematics. He did his schooling at Schwartz Higher Secondary School in Ramanathapuram. He then graduated in Physics from St. Joseph\\'s College, Tiruchirappalli, in 1954.\\nKalam moved to Madras in 1955 to study aerospace engineering at the Madras Institute of Technology. While he was working on a class project, the Dean of the institution was dissatisfied with his lack of progress and threatened to revoke his scholarship unless the project was finished within the next three days. Kalam met the deadline, impressing the Dean, who later said to him, \"I was putting you under stress and asking you to meet a difficult deadline.\" Later, he narrowly missed out on his dream of becoming a fighter pilot, as he placed ninth in qualifiers, and only eight positions were available in the Indian Air Force.\\n\\n\\n== Career as a scientist ==\\n\\nAfter graduating from the Madras Institute of Technology in 1960, Kalam became a member of the Defence Research & Development Service and '),\n",
       " Document(metadata={'title': 'Dr. A. P. J. Abdul Kalam Memorial', 'summary': 'Dr. A. P. J. Abdul Kalam Memorial is a memorial dedicated to the former president of the Republic of India A. P. J. Abdul Kalam located in Peikarumbu, Rameswaram, Tamil Nadu, India. The memorial was designed and constructed by the Defence Research and Development Organisation (DRDO) as a tribute to Kalam and to display the cultural heritage and ethnic diversity of India. It was officially inaugurated by the prime minister of the Republic of India Narendra Modi on 22 July 2017. A symbol of national integration, the memorial is an amalgamation of Mughal and Indian architecture.', 'source': 'https://en.wikipedia.org/wiki/Dr._A._P._J._Abdul_Kalam_Memorial'}, page_content='Dr. A. P. J. Abdul Kalam Memorial is a memorial dedicated to the former president of the Republic of India A. P. J. Abdul Kalam located in Peikarumbu, Rameswaram, Tamil Nadu, India. The memorial was designed and constructed by the Defence Research and Development Organisation (DRDO) as a tribute to Kalam and to display the cultural heritage and ethnic diversity of India. It was officially inaugurated by the prime minister of the Republic of India Narendra Modi on 22 July 2017. A symbol of national integration, the memorial is an amalgamation of Mughal and Indian architecture.\\n\\n\\n== Background ==\\n\\nDr. Kalam died on 27 July 2015, Dr. Kalam travelled to Shillong to deliver a lecture on \"Creating a Livable Planet Earth\" at the Indian Institute of Management Shillong. The lecture was supposed to be 4000 words, but only after speaking the initial two sentences, Dr. Kalam collapsed and he was confirmed dead of a sudden cardiac arrest later at a hospital. Dr. Kalam\\'s body was airlifted in an Indian Air Force helicopter from Shillong to Guwahati, from where it was flown to New Delhi on the morning of 28 July.\\nFollowing Dr. Kalam\\'s death, the Indian Minister of Home Affairs called an emergency meeting of the Union Council of Ministers, attended by Prime Minister of India Narendra Modi. In the meeting, a proposal to build the \"Dr. A. P. J. Abdul Kalam National Memorial\" was finalised. The Indian Government proposed to perform Dr. Kalam\\'s funeral service at Raj Ghat-(Ekta Sthal) in New Delhi, and build a memorial there. Dr. Kalam\\'s family objected, since Dr. Kalam had wanted to be buried in his hometown, Rameshwaram, and the Indian government agreed to go along with the family\\'s wishes, and in the same year on Dr. Kalam\\'s birth date which is on 15 October, the commencement of construction on a memorial at Rameshwaram was publicized by Prime Minister Narendra Modi. On 27 July 2017, on the occasion of Dr. Kalam\\'s second death anniversary, the memorial was inaugurated by Prime Minister Narendra Modi.\\n\\n\\n== Structure, architecture, and landscape ==\\nThe Defence Research and Development Organisation (DRDO) initiate to design and building of the memorial, and in December 2015 the construction was started. In July 2016 Defence Minister Manohar Parrikar officially laid the foundation stone on the occasion of the first anniversary of Kalam\\'s death. The construction was completed within one year, with the engagement of 500 workers, and sometimes the work was carried out around the clock. The work was supervised by DRDO\\'s chief construction engineers; Colonel B. Choubey and Colonel B. K Singh.\\nThe memorial covers 2.11 acres of land, the built-up area is 1,425 square meters, and the construction cost up to 1.2 ₹ billion. The mausoleum is built of granite, marble and reinforced concrete. The construction material was sourced from different parts of India and transported to the construction site; the stone columns are sourced from Bangalore, the stone cladding was designed in Jaisalmer and Agra, wher as the main entrance wooden doors are crafted in Thanjavur and the marble was brought from Karnataka.\\nWith an amalgamation of Mughal and Indian architecture, the memorial is designed in a way to display the cultural heritage and ethnic diversity of India, making it a symbol of national integration. There are three entrances to the structure, of which the main entrance doorway resembles the India Gate of Delhi, while its hallway resembles the Brihadisvara Temple, of Thanjavur, and the wooden doors are designed in Chettinad style. At the northern end of the memorial lies a circular sepulchre that houses Kalam\\'s grave. The main dome resembles one of Rashtrapati Bhavan\\'s central domes and houses a bronze statue of Kalam playing the Veena. The central dome is connected to four display halls of about 2500 square feet—(each hall depicts Kalm\\'s life in phases, and they are designed as children\\'s square, scientist square, motivation square, and lecture square), that h'),\n",
       " Document(metadata={'title': 'List of awards and honours received by A. P. J. Abdul Kalam', 'summary': 'A. P. J. Abdul Kalam was an Indian aerospace scientist and statesman who served as president of India from 2002 to 2007. Born in Rameswaram in Southern India, Kalam spent four decades as a scientist and science administrator, mainly at the Defence Research and Development Organisation and Indian Space Research Organisation and was intimately involved in India\\'s civilian space programme and military missile development efforts. He was known as the \"Missile Man of India\" for his work on the development of ballistic missile and launch vehicle technology. He also played a pivotal organisational, technical, and political role in India\\'s Pokhran-II nuclear tests in 1998.\\nHe was elected as the president of India in 2002 and was widely referred to as the \"People\\'s President\". He engaged in teaching, writing and public service after his presidency. \\nKalam was a recipient of several awards, including the Bharat Ratna, India\\'s highest civilian honour.', 'source': 'https://en.wikipedia.org/wiki/List_of_awards_and_honours_received_by_A._P._J._Abdul_Kalam'}, page_content='A. P. J. Abdul Kalam was an Indian aerospace scientist and statesman who served as president of India from 2002 to 2007. Born in Rameswaram in Southern India, Kalam spent four decades as a scientist and science administrator, mainly at the Defence Research and Development Organisation and Indian Space Research Organisation and was intimately involved in India\\'s civilian space programme and military missile development efforts. He was known as the \"Missile Man of India\" for his work on the development of ballistic missile and launch vehicle technology. He also played a pivotal organisational, technical, and political role in India\\'s Pokhran-II nuclear tests in 1998.\\nHe was elected as the president of India in 2002 and was widely referred to as the \"People\\'s President\". He engaged in teaching, writing and public service after his presidency. \\nKalam was a recipient of several awards, including the Bharat Ratna, India\\'s highest civilian honour.\\n\\n\\n== State honours ==\\n\\n\\n== Scholastic ==\\n\\n\\n=== Chancellor, visitor, governor, rector and fellowships ===\\n\\n\\n=== Honorary degrees ===\\n\\n\\n== Other awards ==\\n\\n\\n== Recognition ==\\n\\n\\n=== Other recognitions ===\\nKalam\\'s birthday, 15 October, is celebrated as World Students\\' Day in India.\\nIn 2015, the Government of Tamil Nadu announced that Kalam\\'s birthday, 15 October, would be observed as \"Youth Renaissance Day\".\\n\\n\\n== Eponyms ==\\n\\n\\n== See also ==\\nList of Padma Vibhushan award recipients\\nList of Padma Bhushan award recipients (1980–1989)\\n\\n\\n== References ==')]"
      ]
     },
     "execution_count": 5,
     "metadata": {},
     "output_type": "execute_result"
    }
   ],
   "execution_count": 5
  },
  {
   "metadata": {
    "ExecuteTime": {
     "end_time": "2025-06-28T09:33:15.437142Z",
     "start_time": "2025-06-28T09:33:15.430875Z"
    }
   },
   "cell_type": "code",
   "source": "os.environ[\"GOOGLE_API_KEY\"] = \"Insert API Key here\"",
   "id": "d7619fc2c9f9ed16",
   "outputs": [],
   "execution_count": 8
  },
  {
   "metadata": {
    "ExecuteTime": {
     "end_time": "2025-06-28T09:36:40.289874Z",
     "start_time": "2025-06-28T09:36:40.020962Z"
    }
   },
   "cell_type": "code",
   "source": [
    "from langchain.chat_models import init_chat_model\n",
    "\n",
    "llm = init_chat_model(\"gemini-2.0-flash\", model_provider=\"google_genai\")\n"
   ],
   "id": "b393c1ac6f6e29b5",
   "outputs": [],
   "execution_count": 9
  },
  {
   "metadata": {
    "ExecuteTime": {
     "end_time": "2025-06-28T09:44:40.959989Z",
     "start_time": "2025-06-28T09:44:34.629373Z"
    }
   },
   "cell_type": "code",
   "source": [
    "from langchain_core.output_parsers import StrOutputParser\n",
    "from langchain_core.prompts import ChatPromptTemplate\n",
    "from langchain_core.runnables import RunnablePassthrough\n",
    "\n",
    "prompt = ChatPromptTemplate.from_template(\n",
    "    \"\"\"\n",
    "    Answer the question based only on the context provided.\n",
    "    Context: {context}\n",
    "    Question: {question}\n",
    "    \"\"\"\n",
    ")\n",
    "\n",
    "\n",
    "def format_docs(docs):\n",
    "    return \"\\n\\n\".join(doc.page_content for doc in docs)\n",
    "\n",
    "\n",
    "chain = (\n",
    "    {\"context\": retriever | format_docs, \"question\": RunnablePassthrough()}\n",
    "    | prompt\n",
    "    | llm\n",
    "    | StrOutputParser()\n",
    ")"
   ],
   "id": "1a195974e848cef6",
   "outputs": [],
   "execution_count": 24
  },
  {
   "metadata": {
    "ExecuteTime": {
     "end_time": "2025-06-28T09:46:16.974949Z",
     "start_time": "2025-06-28T09:46:11.033576Z"
    }
   },
   "cell_type": "code",
   "source": [
    "chain.invoke(\n",
    "    \"when was he elected as president of india?\"\n",
    ")"
   ],
   "id": "94473e6a55120ab2",
   "outputs": [
    {
     "data": {
      "text/plain": [
       "'He was not elected as president of India. The context is about the vice president of India.'"
      ]
     },
     "execution_count": 26,
     "metadata": {},
     "output_type": "execute_result"
    }
   ],
   "execution_count": 26
  },
  {
   "metadata": {
    "ExecuteTime": {
     "end_time": "2025-06-28T09:53:13.316923Z",
     "start_time": "2025-06-28T09:53:13.304162Z"
    }
   },
   "cell_type": "code",
   "source": "format_docs(docs)",
   "id": "3889dd74511ca2f7",
   "outputs": [
    {
     "data": {
      "text/plain": [
       "'Avul Pakir Jainulabdeen Abdul Kalam (  UB-duul kə-LAHM; 15 October 1931 – 27 July 2015) was an Indian aerospace scientist and statesman who served as the  president of India from 2002 to 2007.\\nBorn and raised in a Muslim family in Rameswaram, Tamil Nadu, Kalam studied physics and aerospace engineering. He spent the next four decades as a scientist and science administrator, mainly at the Defence Research and Development Organisation (DRDO) and Indian Space Research Organisation (ISRO) and was intimately involved in India\\'s civilian space programme and military missile development efforts. He was known as the \"Missile Man of India\" for his work on the development of ballistic missile and launch vehicle technology. He also played a pivotal organisational, technical, and political role in Pokhran-II nuclear tests in 1998, India\\'s second such test after the first test in 1974.\\nKalam was elected as the president of India in 2002 with the support of both the ruling Bharatiya Janata Party and the then-opposition Indian National Congress. He was widely referred to as the \"People\\'s President\". He engaged in teaching, writing and public service after his presidency. He was a recipient of several awards, including the Bharat Ratna, India\\'s highest civilian honour.\\nWhile delivering a lecture at IIM Shillong, Kalam collapsed and died from an apparent cardiac arrest on 27 July 2015, aged 83. Thousands attended the funeral ceremony held in his hometown of Rameswaram, where he was buried with full state honours. A memorial was inaugurated near his home town in 2017.\\n\\n\\n== Early life and education ==\\nAvul Pakir Jainulabdeen Abdul Kalam was born on 15 October 1931 to a Tamil Muslim family in the pilgrimage center of Rameswaram on Pamban Island, Madras Presidency (now in the Indian state of Tamil Nadu). His father, Jainulabdeen Marakayar, was a boat owner and imam of a local mosque, and his mother, Ashiamma, was a housewife. His father owned a boat that ferried Hindu pilgrims between Rameswaram and Dhanushkodi.\\n\\nKalam was the youngest of four brothers and a sister in the family. His ancestors had been wealthy Marakayar traders and landowners, with numerous properties and large tracts of land. Marakayar are a Muslim ethnic group found in coastal Tamil Nadu and Sri Lanka who claim descent from Arab traders and local women. The family business had involved trading goods and transporting passengers between the Indian mainland and the Pamban Island and to and from Sri Lanka. With the opening of the Pamban Bridge connecting Pamban Island to mainland India in 1914, the businesses failed. As a result, apart from the ancestral home, the other family fortune and properties were lost by the 1920s, and the family was poverty-stricken by the time Kalam was born. As a young boy, he delivered newspapers to support the family\\'s meager income.\\nIn his school years, Kalam got average grades but was described by his teachers as a bright and hardworking student with a strong desire to learn. He spent hours learning Mathematics. He did his schooling at Schwartz Higher Secondary School in Ramanathapuram. He then graduated in Physics from St. Joseph\\'s College, Tiruchirappalli, in 1954.\\nKalam moved to Madras in 1955 to study aerospace engineering at the Madras Institute of Technology. While he was working on a class project, the Dean of the institution was dissatisfied with his lack of progress and threatened to revoke his scholarship unless the project was finished within the next three days. Kalam met the deadline, impressing the Dean, who later said to him, \"I was putting you under stress and asking you to meet a difficult deadline.\" Later, he narrowly missed out on his dream of becoming a fighter pilot, as he placed ninth in qualifiers, and only eight positions were available in the Indian Air Force.\\n\\n\\n== Career as a scientist ==\\n\\nAfter graduating from the Madras Institute of Technology in 1960, Kalam became a member of the Defence Research & Development Service and \\n\\nDr. A. P. J. Abdul Kalam Memorial is a memorial dedicated to the former president of the Republic of India A. P. J. Abdul Kalam located in Peikarumbu, Rameswaram, Tamil Nadu, India. The memorial was designed and constructed by the Defence Research and Development Organisation (DRDO) as a tribute to Kalam and to display the cultural heritage and ethnic diversity of India. It was officially inaugurated by the prime minister of the Republic of India Narendra Modi on 22 July 2017. A symbol of national integration, the memorial is an amalgamation of Mughal and Indian architecture.\\n\\n\\n== Background ==\\n\\nDr. Kalam died on 27 July 2015, Dr. Kalam travelled to Shillong to deliver a lecture on \"Creating a Livable Planet Earth\" at the Indian Institute of Management Shillong. The lecture was supposed to be 4000 words, but only after speaking the initial two sentences, Dr. Kalam collapsed and he was confirmed dead of a sudden cardiac arrest later at a hospital. Dr. Kalam\\'s body was airlifted in an Indian Air Force helicopter from Shillong to Guwahati, from where it was flown to New Delhi on the morning of 28 July.\\nFollowing Dr. Kalam\\'s death, the Indian Minister of Home Affairs called an emergency meeting of the Union Council of Ministers, attended by Prime Minister of India Narendra Modi. In the meeting, a proposal to build the \"Dr. A. P. J. Abdul Kalam National Memorial\" was finalised. The Indian Government proposed to perform Dr. Kalam\\'s funeral service at Raj Ghat-(Ekta Sthal) in New Delhi, and build a memorial there. Dr. Kalam\\'s family objected, since Dr. Kalam had wanted to be buried in his hometown, Rameshwaram, and the Indian government agreed to go along with the family\\'s wishes, and in the same year on Dr. Kalam\\'s birth date which is on 15 October, the commencement of construction on a memorial at Rameshwaram was publicized by Prime Minister Narendra Modi. On 27 July 2017, on the occasion of Dr. Kalam\\'s second death anniversary, the memorial was inaugurated by Prime Minister Narendra Modi.\\n\\n\\n== Structure, architecture, and landscape ==\\nThe Defence Research and Development Organisation (DRDO) initiate to design and building of the memorial, and in December 2015 the construction was started. In July 2016 Defence Minister Manohar Parrikar officially laid the foundation stone on the occasion of the first anniversary of Kalam\\'s death. The construction was completed within one year, with the engagement of 500 workers, and sometimes the work was carried out around the clock. The work was supervised by DRDO\\'s chief construction engineers; Colonel B. Choubey and Colonel B. K Singh.\\nThe memorial covers 2.11 acres of land, the built-up area is 1,425 square meters, and the construction cost up to 1.2 ₹ billion. The mausoleum is built of granite, marble and reinforced concrete. The construction material was sourced from different parts of India and transported to the construction site; the stone columns are sourced from Bangalore, the stone cladding was designed in Jaisalmer and Agra, wher as the main entrance wooden doors are crafted in Thanjavur and the marble was brought from Karnataka.\\nWith an amalgamation of Mughal and Indian architecture, the memorial is designed in a way to display the cultural heritage and ethnic diversity of India, making it a symbol of national integration. There are three entrances to the structure, of which the main entrance doorway resembles the India Gate of Delhi, while its hallway resembles the Brihadisvara Temple, of Thanjavur, and the wooden doors are designed in Chettinad style. At the northern end of the memorial lies a circular sepulchre that houses Kalam\\'s grave. The main dome resembles one of Rashtrapati Bhavan\\'s central domes and houses a bronze statue of Kalam playing the Veena. The central dome is connected to four display halls of about 2500 square feet—(each hall depicts Kalm\\'s life in phases, and they are designed as children\\'s square, scientist square, motivation square, and lecture square), that h\\n\\nA. P. J. Abdul Kalam was an Indian aerospace scientist and statesman who served as president of India from 2002 to 2007. Born in Rameswaram in Southern India, Kalam spent four decades as a scientist and science administrator, mainly at the Defence Research and Development Organisation and Indian Space Research Organisation and was intimately involved in India\\'s civilian space programme and military missile development efforts. He was known as the \"Missile Man of India\" for his work on the development of ballistic missile and launch vehicle technology. He also played a pivotal organisational, technical, and political role in India\\'s Pokhran-II nuclear tests in 1998.\\nHe was elected as the president of India in 2002 and was widely referred to as the \"People\\'s President\". He engaged in teaching, writing and public service after his presidency. \\nKalam was a recipient of several awards, including the Bharat Ratna, India\\'s highest civilian honour.\\n\\n\\n== State honours ==\\n\\n\\n== Scholastic ==\\n\\n\\n=== Chancellor, visitor, governor, rector and fellowships ===\\n\\n\\n=== Honorary degrees ===\\n\\n\\n== Other awards ==\\n\\n\\n== Recognition ==\\n\\n\\n=== Other recognitions ===\\nKalam\\'s birthday, 15 October, is celebrated as World Students\\' Day in India.\\nIn 2015, the Government of Tamil Nadu announced that Kalam\\'s birthday, 15 October, would be observed as \"Youth Renaissance Day\".\\n\\n\\n== Eponyms ==\\n\\n\\n== See also ==\\nList of Padma Vibhushan award recipients\\nList of Padma Bhushan award recipients (1980–1989)\\n\\n\\n== References =='"
      ]
     },
     "execution_count": 33,
     "metadata": {},
     "output_type": "execute_result"
    }
   ],
   "execution_count": 33
  },
  {
   "metadata": {
    "ExecuteTime": {
     "end_time": "2025-06-28T09:52:17.052271Z",
     "start_time": "2025-06-28T09:52:17.045821Z"
    }
   },
   "cell_type": "code",
   "source": [
    "prompt = ChatPromptTemplate.from_messages(\n",
    "    [\n",
    "        (\n",
    "            \"system\",\n",
    "            formatted,\n",
    "        ),\n",
    "        (\"human\", \"{input}\"),\n",
    "    ]\n",
    ")"
   ],
   "id": "3b3a2aaa8f94740",
   "outputs": [],
   "execution_count": 30
  },
  {
   "metadata": {
    "ExecuteTime": {
     "end_time": "2025-06-28T09:52:36.521964Z",
     "start_time": "2025-06-28T09:52:35.411789Z"
    }
   },
   "cell_type": "code",
   "source": [
    "chain = prompt | llm\n",
    "chain.invoke(\n",
    "    {\n",
    "        \"input\": \"when was he elected as president of india?\",\n",
    "    })"
   ],
   "id": "a5eeaa77e2fd5dbe",
   "outputs": [
    {
     "data": {
      "text/plain": [
       "AIMessage(content='A. P. J. Abdul Kalam was elected as the president of India in 2002.', additional_kwargs={}, response_metadata={'prompt_feedback': {'block_reason': 0, 'safety_ratings': []}, 'finish_reason': 'STOP', 'model_name': 'gemini-2.0-flash', 'safety_ratings': []}, id='run--2d9c104f-1419-46fb-9772-f067d48a1b03-0', usage_metadata={'input_tokens': 2140, 'output_tokens': 23, 'total_tokens': 2163, 'input_token_details': {'cache_read': 0}})"
      ]
     },
     "execution_count": 32,
     "metadata": {},
     "output_type": "execute_result"
    }
   ],
   "execution_count": 32
  },
  {
   "metadata": {
    "ExecuteTime": {
     "end_time": "2025-06-28T09:54:45.070722Z",
     "start_time": "2025-06-28T09:54:44.002519Z"
    }
   },
   "cell_type": "code",
   "source": [
    "chain.invoke(\n",
    "    {\n",
    "        \"input\": \"where was he born?\",\n",
    "    })"
   ],
   "id": "aa26848ec371e9c6",
   "outputs": [
    {
     "data": {
      "text/plain": [
       "AIMessage(content='Avul Pakir Jainulabdeen Abdul Kalam was born in the pilgrimage center of Rameswaram on Pamban Island, Madras Presidency (now in the Indian state of Tamil Nadu).', additional_kwargs={}, response_metadata={'prompt_feedback': {'block_reason': 0, 'safety_ratings': []}, 'finish_reason': 'STOP', 'model_name': 'gemini-2.0-flash', 'safety_ratings': []}, id='run--a8149e3f-bea1-4fa9-8114-e5fc3c73e93f-0', usage_metadata={'input_tokens': 2136, 'output_tokens': 40, 'total_tokens': 2176, 'input_token_details': {'cache_read': 0}})"
      ]
     },
     "execution_count": 34,
     "metadata": {},
     "output_type": "execute_result"
    }
   ],
   "execution_count": 34
  },
  {
   "metadata": {
    "ExecuteTime": {
     "end_time": "2025-06-28T09:55:57.510535Z",
     "start_time": "2025-06-28T09:55:55.988245Z"
    }
   },
   "cell_type": "code",
   "source": [
    "chain.invoke(\n",
    "    {\n",
    "        \"input\": \"list top 3 accomplishments of his career\",\n",
    "    })"
   ],
   "id": "b6dd5a7c0b709fdc",
   "outputs": [
    {
     "data": {
      "text/plain": [
       "AIMessage(content='Based on the provided text, here are three of A.P.J. Abdul Kalam\\'s top accomplishments:\\n\\n1.  **Development of Ballistic Missile and Launch Vehicle Technology:** He was known as the \"Missile Man of India\" for his significant contributions to this area.\\n2.  **Pivotal Role in Pokhran-II Nuclear Tests (1998):** He played a crucial organizational, technical, and political role in these tests, which were India\\'s second set of nuclear tests.\\n3.  **Presidency of India (2002-2007):** He served as the 11th president of India and was widely known as the \"People\\'s President.\"', additional_kwargs={}, response_metadata={'prompt_feedback': {'block_reason': 0, 'safety_ratings': []}, 'finish_reason': 'STOP', 'model_name': 'gemini-2.0-flash', 'safety_ratings': []}, id='run--1bfca360-c9cd-4d49-98c2-a7969a155a76-0', usage_metadata={'input_tokens': 2139, 'output_tokens': 151, 'total_tokens': 2290, 'input_token_details': {'cache_read': 0}})"
      ]
     },
     "execution_count": 35,
     "metadata": {},
     "output_type": "execute_result"
    }
   ],
   "execution_count": 35
  },
  {
   "metadata": {
    "ExecuteTime": {
     "end_time": "2025-06-28T10:10:25.598092Z",
     "start_time": "2025-06-28T10:10:23.237579Z"
    }
   },
   "cell_type": "code",
   "source": [
    "chain.invoke(\n",
    "    {\n",
    "        \"input\": \"explain like i'm 5 years old\",\n",
    "    })"
   ],
   "id": "4e1c03f8fa9f63e6",
   "outputs": [
    {
     "data": {
      "text/plain": [
       "AIMessage(content='Okay, imagine a really smart and kind grandpa named Abdul Kalam. He loved science and rockets!\\n\\nWhen he was a little boy, he had to sell newspapers to help his family. But he was also a very good student and loved learning.\\n\\nHe grew up to be a scientist who helped India build rockets and missiles. That\\'s why people called him the \"Missile Man of India\"!\\n\\nLater, he became the President of India, which is like being the boss of the whole country! Everyone loved him because he was kind and always encouraged kids to study and learn. They called him the \"People\\'s President\"!\\n\\nHe got lots of awards for being so smart and helpful. Even after he stopped being President, he kept teaching and writing books to inspire people.\\n\\nSadly, he died while giving a speech, but everyone remembers him as a great scientist, a kind leader, and someone who always wanted everyone to learn and do their best!\\n\\nSo, Abdul Kalam was a super smart and kind person who loved science and wanted everyone to be happy and successful!', additional_kwargs={}, response_metadata={'prompt_feedback': {'block_reason': 0, 'safety_ratings': []}, 'finish_reason': 'STOP', 'model_name': 'gemini-2.0-flash', 'safety_ratings': []}, id='run--5cbebd33-2d1e-4520-9f9f-05d1c357b4f6-0', usage_metadata={'input_tokens': 2140, 'output_tokens': 217, 'total_tokens': 2357, 'input_token_details': {'cache_read': 0}})"
      ]
     },
     "execution_count": 36,
     "metadata": {},
     "output_type": "execute_result"
    }
   ],
   "execution_count": 36
  }
 ],
 "metadata": {
  "kernelspec": {
   "display_name": "Python 3",
   "language": "python",
   "name": "python3"
  },
  "language_info": {
   "codemirror_mode": {
    "name": "ipython",
    "version": 2
   },
   "file_extension": ".py",
   "mimetype": "text/x-python",
   "name": "python",
   "nbconvert_exporter": "python",
   "pygments_lexer": "ipython2",
   "version": "2.7.6"
  }
 },
 "nbformat": 4,
 "nbformat_minor": 5
}
