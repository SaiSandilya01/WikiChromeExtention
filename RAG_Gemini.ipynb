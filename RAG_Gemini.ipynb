{
 "cells": [
  {
   "cell_type": "code",
   "id": "initial_id",
   "metadata": {
    "collapsed": true,
    "ExecuteTime": {
     "end_time": "2025-06-11T05:40:50.797445Z",
     "start_time": "2025-06-11T05:40:50.788071Z"
    }
   },
   "source": [
    "import os\n",
    "import json\n",
    "from langchain_community.vectorstores import Chroma\n",
    "from langchain_community.embeddings import HuggingFaceEmbeddings\n",
    "from langchain_google_genai import ChatGoogleGenerativeAI\n",
    "from langchain.chains import RetrievalQA\n",
    "from langchain.schema import Document"
   ],
   "outputs": [],
   "execution_count": 25
  },
  {
   "metadata": {
    "ExecuteTime": {
     "end_time": "2025-06-11T05:40:52.067174Z",
     "start_time": "2025-06-11T05:40:52.054815Z"
    }
   },
   "cell_type": "code",
   "source": [
    "with open(\"../data/insurance_policies.json\", \"r\") as f:\n",
    "    data = json.load(f)"
   ],
   "id": "a83f36733558577c",
   "outputs": [],
   "execution_count": 26
  },
  {
   "metadata": {
    "ExecuteTime": {
     "end_time": "2025-06-11T05:40:52.831125Z",
     "start_time": "2025-06-11T05:40:52.814803Z"
    }
   },
   "cell_type": "code",
   "source": [
    "\n",
    "docs = [\n",
    "    Document(\n",
    "        page_content=(\n",
    "            f\"{d['title']}\\n\"\n",
    "            f\"Type: {d['type']}\\n\"\n",
    "            f\"Max Benefit: {d['max_benefit']}\\n\"\n",
    "            f\"Coverage: {', '.join(d['coverage'])}\\n\"\n",
    "            f\"Conditions: {', '.join(d['conditions'])}\\n\"\n",
    "        ),\n",
    "        metadata={\"source\": d[\"id\"]}\n",
    "    )\n",
    "    for d in data\n",
    "]"
   ],
   "id": "632535b0d82921c4",
   "outputs": [],
   "execution_count": 27
  },
  {
   "metadata": {
    "ExecuteTime": {
     "end_time": "2025-06-11T05:41:08.014999Z",
     "start_time": "2025-06-11T05:40:56.655429Z"
    }
   },
   "cell_type": "code",
   "source": [
    "embedding_model = HuggingFaceEmbeddings(model_name=\"all-MiniLM-L6-v2\")\n",
    "vectorstore = Chroma.from_documents(\n",
    "    documents=docs,\n",
    "    embedding=embedding_model,\n",
    "    persist_directory=\"../chroma_store\"\n",
    ")\n",
    "vectorstore.persist()"
   ],
   "id": "9671910d0e4b9a24",
   "outputs": [],
   "execution_count": 28
  },
  {
   "metadata": {
    "ExecuteTime": {
     "end_time": "2025-06-11T05:41:11.244571Z",
     "start_time": "2025-06-11T05:41:11.238224Z"
    }
   },
   "cell_type": "code",
   "source": "os.environ[\"GOOGLE_API_KEY\"] = \"api key\"",
   "id": "160735de8ec58e65",
   "outputs": [],
   "execution_count": 29
  },
  {
   "metadata": {
    "ExecuteTime": {
     "end_time": "2025-06-11T05:41:12.017539Z",
     "start_time": "2025-06-11T05:41:11.958430Z"
    }
   },
   "cell_type": "code",
   "source": [
    "llm = ChatGoogleGenerativeAI(model=\"gemini-2.0-flash\")\n",
    "qa_chain = RetrievalQA.from_chain_type(\n",
    "    llm=llm,\n",
    "    retriever=vectorstore.as_retriever(search_kwargs={\"k\": 3}),\n",
    "    chain_type=\"stuff\"\n",
    ")\n"
   ],
   "id": "349a088f29a149d8",
   "outputs": [],
   "execution_count": 30
  },
  {
   "metadata": {
    "ExecuteTime": {
     "end_time": "2025-06-11T06:23:03.039667Z",
     "start_time": "2025-06-11T06:23:00.841696Z"
    }
   },
   "cell_type": "code",
   "source": [
    "query = \"What is the eligibility for international travel insurance?\"\n",
    "response = qa_chain.run(query)"
   ],
   "id": "a50c5f9c0f6ef220",
   "outputs": [],
   "execution_count": 39
  },
  {
   "metadata": {
    "ExecuteTime": {
     "end_time": "2025-06-11T06:23:15.315912Z",
     "start_time": "2025-06-11T06:23:15.302135Z"
    }
   },
   "cell_type": "code",
   "source": "print(response)",
   "id": "a8d4fab14debfcc7",
   "outputs": [
    {
     "name": "stdout",
     "output_type": "stream",
     "text": [
      "The international travel insurance is available to travelers aged 0 to 70 undertaking international journeys. All applicants must submit valid identity and income proofs. Medical screening may be required based on age and health history.\n"
     ]
    }
   ],
   "execution_count": 41
  },
  {
   "metadata": {
    "ExecuteTime": {
     "end_time": "2025-06-11T06:23:24.776429Z",
     "start_time": "2025-06-11T06:23:23.772080Z"
    }
   },
   "cell_type": "code",
   "source": "print(qa_chain.run(\"maximum value i can avail from travel insurance\"))",
   "id": "14c01c03e4638611",
   "outputs": [
    {
     "name": "stdout",
     "output_type": "stream",
     "text": [
      "The maximum benefit you can avail from the listed travel insurance plans (Plan #1016, Plan #1022, and Plan #1028) is ₹15,00,000.\n"
     ]
    }
   ],
   "execution_count": 42
  },
  {
   "metadata": {
    "ExecuteTime": {
     "end_time": "2025-06-11T06:23:42.157341Z",
     "start_time": "2025-06-11T06:23:39.959491Z"
    }
   },
   "cell_type": "code",
   "source": "print(qa_chain.run(\"give me all the details about the health insurance\"))",
   "id": "ca8e05c04a13dd91",
   "outputs": [
    {
     "name": "stdout",
     "output_type": "stream",
     "text": [
      "Comprehensive Health Insurance (Policy Number: 1075):\n",
      "*   **Coverage Overview:** Hospitalization, outpatient care, maternity, and emergency services. Designed to offer financial protection against unforeseen events and liabilities.\n",
      "*   **Eligibility Criteria:** Individuals aged 18 to 65 and dependent children up to age 25. All applicants must submit valid identity and income proofs. Medical screening may be required based on age and health history.\n",
      "*   **Policy Terms:** Coverage is subject to applicable sub-limits and co-payments as detailed in the policy schedule. Pre-existing diseases are covered after a waiting period of 36 months from the policy start date.\n",
      "*   **Renewal & Cancellation:** The policy must be renewed annually before the due date. The insurer reserves the right to cancel the policy in case of non-payment of premium, fraud, or violation of policy terms.\n",
      "*   **Governing Body:** Governed by the Insurance Regulatory and Development Authority of India (IRDAI) guidelines.\n",
      "\n",
      "CareSecure Health Plus:\n",
      "*   **Plan ID:** 1013 & 1014\n",
      "*   **Category:** Health Insurance\n",
      "*   **Coverage Details:** In-patient hospitalization expenses; pre and post hospitalization (30 and 60 days respectively); day-care treatments; emergency ambulance charges; free annual health check-ups.\n"
     ]
    }
   ],
   "execution_count": 43
  },
  {
   "metadata": {
    "ExecuteTime": {
     "end_time": "2025-06-11T06:24:40.710134Z",
     "start_time": "2025-06-11T06:24:39.611560Z"
    }
   },
   "cell_type": "code",
   "source": "print(qa_chain.run(\"What is the maximum benefit of health insurance policy\"))",
   "id": "d2c7c00f537987fe",
   "outputs": [
    {
     "name": "stdout",
     "output_type": "stream",
     "text": [
      "The maximum benefit for the health insurance policies listed (CareSecure Health Plus - Plan #1035, CareSecure Health Plus - Plan #1033, and CareSecure Health Plus - Plan #1041) is ₹10,00,000.\n"
     ]
    }
   ],
   "execution_count": 49
  },
  {
   "metadata": {},
   "cell_type": "code",
   "outputs": [],
   "execution_count": null,
   "source": "",
   "id": "f814e7b2132a85a5"
  }
 ],
 "metadata": {
  "kernelspec": {
   "display_name": "Python 3",
   "language": "python",
   "name": "python3"
  },
  "language_info": {
   "codemirror_mode": {
    "name": "ipython",
    "version": 2
   },
   "file_extension": ".py",
   "mimetype": "text/x-python",
   "name": "python",
   "nbconvert_exporter": "python",
   "pygments_lexer": "ipython2",
   "version": "2.7.6"
  }
 },
 "nbformat": 4,
 "nbformat_minor": 5
}
